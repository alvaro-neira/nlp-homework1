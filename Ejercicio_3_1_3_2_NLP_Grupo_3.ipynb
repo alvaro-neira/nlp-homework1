{
  "nbformat": 4,
  "nbformat_minor": 0,
  "metadata": {
    "colab": {
      "name": "Ejercicio 3.1 3.2 -  NLP Grupo 3.ipynb",
      "provenance": [],
      "collapsed_sections": [],
      "machine_shape": "hm"
    },
    "kernelspec": {
      "name": "python3",
      "display_name": "Python 3"
    },
    "language_info": {
      "name": "python"
    },
    "accelerator": "GPU"
  },
  "cells": [
    {
      "cell_type": "markdown",
      "metadata": {
        "id": "UXWvxhhRz8Hi"
      },
      "source": [
        "#Integrantes de la tarea"
      ]
    },
    {
      "cell_type": "markdown",
      "metadata": {
        "id": "xw90yC-A0PLr"
      },
      "source": [
        "Integrantes del grupo:\n",
        "\n",
        "* Integrante 1:Matias Rodriguez U. Rut: 18362815-1\n",
        "* Integrante 2:Paula Canales G. Rut:18845155-1\n",
        "* Integrante 3:Sebastián Alday Rut:18294095-k\n",
        "* Integrante 4:Álvaro Neira R. Rut:13757209-5"
      ]
    },
    {
      "cell_type": "markdown",
      "metadata": {
        "id": "BQqLxqHQq-GN"
      },
      "source": [
        "# Importación de Librerias"
      ]
    },
    {
      "cell_type": "markdown",
      "metadata": {
        "id": "H83KqYty7Isi"
      },
      "source": [
        "Estas son las bibliotecas y módulos necesarios."
      ]
    },
    {
      "cell_type": "code",
      "metadata": {
        "id": "21BbHj_N7G0D"
      },
      "source": [
        "import pandas as pd\n",
        "import re\n",
        "\n",
        "import spacy\n",
        "import nltk\n",
        "import sklearn\n",
        "import wordcloud\n",
        "import matplotlib.pyplot as plt\n",
        "import pandas as pd\n",
        "import random"
      ],
      "execution_count": null,
      "outputs": []
    },
    {
      "cell_type": "markdown",
      "metadata": {
        "id": "syvGtkFOsYgv"
      },
      "source": [
        "# Datos Necesarios"
      ]
    },
    {
      "cell_type": "markdown",
      "metadata": {
        "id": "Lexwob8PrGvc"
      },
      "source": [
        "Descargamos los datos necesarios para las actividades"
      ]
    },
    {
      "cell_type": "code",
      "metadata": {
        "id": "hF7EbQTkqeBU",
        "colab": {
          "base_uri": "https://localhost:8080/"
        },
        "outputId": "357942cb-8b44-4d3d-ba64-c990852b5082"
      },
      "source": [
        "!wget https://raw.githubusercontent.com/fvillena/dcc-ia-nlp/master/data/aysen.csv\n",
        "#!wget https://raw.githubusercontent.com/fvillena/dcc-ia-nlp/master/data/aysen_corto.csv\n",
        "#!wget https://raw.githubusercontent.com/fvillena/dcc-ia-nlp/master/data/proveedoresA.txt\n",
        "#!wget https://raw.githubusercontent.com/fvillena/dcc-ia-nlp/master/data/other_vhosts_access.log\n",
        "nltk.download('stopwords')\n",
        "nltk.download('wordnet')\n",
        "!python -m spacy download es_core_news_sm\n",
        "import es_core_news_sm\n",
        "nlp_es = es_core_news_sm.load()"
      ],
      "execution_count": null,
      "outputs": [
        {
          "output_type": "stream",
          "name": "stdout",
          "text": [
            "--2021-12-03 03:02:34--  https://raw.githubusercontent.com/fvillena/dcc-ia-nlp/master/data/aysen.csv\n",
            "Resolving raw.githubusercontent.com (raw.githubusercontent.com)... 185.199.109.133, 185.199.111.133, 185.199.110.133, ...\n",
            "Connecting to raw.githubusercontent.com (raw.githubusercontent.com)|185.199.109.133|:443... connected.\n",
            "HTTP request sent, awaiting response... 200 OK\n",
            "Length: 29482924 (28M) [text/plain]\n",
            "Saving to: ‘aysen.csv’\n",
            "\n",
            "aysen.csv           100%[===================>]  28.12M   102MB/s    in 0.3s    \n",
            "\n",
            "2021-12-03 03:02:35 (102 MB/s) - ‘aysen.csv’ saved [29482924/29482924]\n",
            "\n",
            "[nltk_data] Downloading package stopwords to /root/nltk_data...\n",
            "[nltk_data]   Unzipping corpora/stopwords.zip.\n",
            "[nltk_data] Downloading package wordnet to /root/nltk_data...\n",
            "[nltk_data]   Unzipping corpora/wordnet.zip.\n",
            "Collecting es_core_news_sm==2.2.5\n",
            "  Downloading https://github.com/explosion/spacy-models/releases/download/es_core_news_sm-2.2.5/es_core_news_sm-2.2.5.tar.gz (16.2 MB)\n",
            "\u001b[K     |████████████████████████████████| 16.2 MB 2.4 MB/s \n",
            "\u001b[?25hRequirement already satisfied: spacy>=2.2.2 in /usr/local/lib/python3.7/dist-packages (from es_core_news_sm==2.2.5) (2.2.4)\n",
            "Requirement already satisfied: thinc==7.4.0 in /usr/local/lib/python3.7/dist-packages (from spacy>=2.2.2->es_core_news_sm==2.2.5) (7.4.0)\n",
            "Requirement already satisfied: blis<0.5.0,>=0.4.0 in /usr/local/lib/python3.7/dist-packages (from spacy>=2.2.2->es_core_news_sm==2.2.5) (0.4.1)\n",
            "Requirement already satisfied: cymem<2.1.0,>=2.0.2 in /usr/local/lib/python3.7/dist-packages (from spacy>=2.2.2->es_core_news_sm==2.2.5) (2.0.6)\n",
            "Requirement already satisfied: murmurhash<1.1.0,>=0.28.0 in /usr/local/lib/python3.7/dist-packages (from spacy>=2.2.2->es_core_news_sm==2.2.5) (1.0.6)\n",
            "Requirement already satisfied: catalogue<1.1.0,>=0.0.7 in /usr/local/lib/python3.7/dist-packages (from spacy>=2.2.2->es_core_news_sm==2.2.5) (1.0.0)\n",
            "Requirement already satisfied: tqdm<5.0.0,>=4.38.0 in /usr/local/lib/python3.7/dist-packages (from spacy>=2.2.2->es_core_news_sm==2.2.5) (4.62.3)\n",
            "Requirement already satisfied: srsly<1.1.0,>=1.0.2 in /usr/local/lib/python3.7/dist-packages (from spacy>=2.2.2->es_core_news_sm==2.2.5) (1.0.5)\n",
            "Requirement already satisfied: setuptools in /usr/local/lib/python3.7/dist-packages (from spacy>=2.2.2->es_core_news_sm==2.2.5) (57.4.0)\n",
            "Requirement already satisfied: preshed<3.1.0,>=3.0.2 in /usr/local/lib/python3.7/dist-packages (from spacy>=2.2.2->es_core_news_sm==2.2.5) (3.0.6)\n",
            "Requirement already satisfied: requests<3.0.0,>=2.13.0 in /usr/local/lib/python3.7/dist-packages (from spacy>=2.2.2->es_core_news_sm==2.2.5) (2.23.0)\n",
            "Requirement already satisfied: plac<1.2.0,>=0.9.6 in /usr/local/lib/python3.7/dist-packages (from spacy>=2.2.2->es_core_news_sm==2.2.5) (1.1.3)\n",
            "Requirement already satisfied: wasabi<1.1.0,>=0.4.0 in /usr/local/lib/python3.7/dist-packages (from spacy>=2.2.2->es_core_news_sm==2.2.5) (0.8.2)\n",
            "Requirement already satisfied: numpy>=1.15.0 in /usr/local/lib/python3.7/dist-packages (from spacy>=2.2.2->es_core_news_sm==2.2.5) (1.19.5)\n",
            "Requirement already satisfied: importlib-metadata>=0.20 in /usr/local/lib/python3.7/dist-packages (from catalogue<1.1.0,>=0.0.7->spacy>=2.2.2->es_core_news_sm==2.2.5) (4.8.2)\n",
            "Requirement already satisfied: typing-extensions>=3.6.4 in /usr/local/lib/python3.7/dist-packages (from importlib-metadata>=0.20->catalogue<1.1.0,>=0.0.7->spacy>=2.2.2->es_core_news_sm==2.2.5) (3.10.0.2)\n",
            "Requirement already satisfied: zipp>=0.5 in /usr/local/lib/python3.7/dist-packages (from importlib-metadata>=0.20->catalogue<1.1.0,>=0.0.7->spacy>=2.2.2->es_core_news_sm==2.2.5) (3.6.0)\n",
            "Requirement already satisfied: urllib3!=1.25.0,!=1.25.1,<1.26,>=1.21.1 in /usr/local/lib/python3.7/dist-packages (from requests<3.0.0,>=2.13.0->spacy>=2.2.2->es_core_news_sm==2.2.5) (1.24.3)\n",
            "Requirement already satisfied: certifi>=2017.4.17 in /usr/local/lib/python3.7/dist-packages (from requests<3.0.0,>=2.13.0->spacy>=2.2.2->es_core_news_sm==2.2.5) (2021.10.8)\n",
            "Requirement already satisfied: chardet<4,>=3.0.2 in /usr/local/lib/python3.7/dist-packages (from requests<3.0.0,>=2.13.0->spacy>=2.2.2->es_core_news_sm==2.2.5) (3.0.4)\n",
            "Requirement already satisfied: idna<3,>=2.5 in /usr/local/lib/python3.7/dist-packages (from requests<3.0.0,>=2.13.0->spacy>=2.2.2->es_core_news_sm==2.2.5) (2.10)\n",
            "Building wheels for collected packages: es-core-news-sm\n",
            "  Building wheel for es-core-news-sm (setup.py) ... \u001b[?25l\u001b[?25hdone\n",
            "  Created wheel for es-core-news-sm: filename=es_core_news_sm-2.2.5-py3-none-any.whl size=16172933 sha256=335f6daddc0286a4b206112f4a02ecfbb3b632f066859a455250d1b71b5d51a6\n",
            "  Stored in directory: /tmp/pip-ephem-wheel-cache-lpovco25/wheels/21/8d/a9/6c1a2809c55dd22cd9644ae503a52ba6206b04aa57ba83a3d8\n",
            "Successfully built es-core-news-sm\n",
            "Installing collected packages: es-core-news-sm\n",
            "Successfully installed es-core-news-sm-2.2.5\n",
            "\u001b[38;5;2m✔ Download and installation successful\u001b[0m\n",
            "You can now load the model via spacy.load('es_core_news_sm')\n"
          ]
        }
      ]
    },
    {
      "cell_type": "markdown",
      "metadata": {
        "id": "EDDUUTUtrN3E"
      },
      "source": [
        "# 1 Limpieza de la base de datos \n"
      ]
    },
    {
      "cell_type": "markdown",
      "metadata": {
        "id": "jVQz6dN1tuun"
      },
      "source": [
        "##Dataset"
      ]
    },
    {
      "cell_type": "code",
      "metadata": {
        "id": "5lyv2yDdu-GX",
        "colab": {
          "base_uri": "https://localhost:8080/"
        },
        "outputId": "e2c0d5a0-ddb1-4d88-9d6d-d184e3e10da3"
      },
      "source": [
        "aysen = pd.read_csv(\"aysen.csv\", sep=\";\", na_values=[\"Otro\",\"\"])"
      ],
      "execution_count": null,
      "outputs": [
        {
          "output_type": "stream",
          "name": "stderr",
          "text": [
            "/usr/local/lib/python3.7/dist-packages/IPython/core/interactiveshell.py:2718: DtypeWarning: Columns (0) have mixed types.Specify dtype option on import or set low_memory=False.\n",
            "  interactivity=interactivity, compiler=compiler, result=result)\n"
          ]
        }
      ]
    },
    {
      "cell_type": "markdown",
      "metadata": {
        "id": "saqhDn5uws3A"
      },
      "source": [
        "# 3. Análisis no supervisado"
      ]
    },
    {
      "cell_type": "markdown",
      "metadata": {
        "id": "6K2xz1P4QX6I"
      },
      "source": [
        "**En esta parte volví a calcular el D10K porque creo que así es más mejor**\n"
      ]
    },
    {
      "cell_type": "code",
      "metadata": {
        "id": "WWm_szyazcDB"
      },
      "source": [
        "aysen_data = aysen[[\"SOSPECHA_DIAG\",\"PRESTA_EST\"]]"
      ],
      "execution_count": null,
      "outputs": []
    },
    {
      "cell_type": "code",
      "metadata": {
        "colab": {
          "base_uri": "https://localhost:8080/",
          "height": 300
        },
        "id": "wUsNnV6v10FK",
        "outputId": "7500e238-aeaa-4bcf-d950-5bca67ced8c1"
      },
      "source": [
        "import json\n",
        "rank = json.loads(aysen_data.PRESTA_EST.value_counts().to_json())\n",
        "rank = pd.DataFrame(list(rank.items()),columns = ['PRESTA_EST','PRESTA_EST_COUNT'])\n",
        "rank = rank.loc[rank['PRESTA_EST_COUNT'] > 10000]\n",
        "rank"
      ],
      "execution_count": null,
      "outputs": [
        {
          "output_type": "execute_result",
          "data": {
            "text/html": [
              "<div>\n",
              "<style scoped>\n",
              "    .dataframe tbody tr th:only-of-type {\n",
              "        vertical-align: middle;\n",
              "    }\n",
              "\n",
              "    .dataframe tbody tr th {\n",
              "        vertical-align: top;\n",
              "    }\n",
              "\n",
              "    .dataframe thead th {\n",
              "        text-align: right;\n",
              "    }\n",
              "</style>\n",
              "<table border=\"1\" class=\"dataframe\">\n",
              "  <thead>\n",
              "    <tr style=\"text-align: right;\">\n",
              "      <th></th>\n",
              "      <th>PRESTA_EST</th>\n",
              "      <th>PRESTA_EST_COUNT</th>\n",
              "    </tr>\n",
              "  </thead>\n",
              "  <tbody>\n",
              "    <tr>\n",
              "      <th>0</th>\n",
              "      <td>TRAUMATOLOGIA</td>\n",
              "      <td>24004</td>\n",
              "    </tr>\n",
              "    <tr>\n",
              "      <th>1</th>\n",
              "      <td>OFTALMOLOGIA</td>\n",
              "      <td>21482</td>\n",
              "    </tr>\n",
              "    <tr>\n",
              "      <th>2</th>\n",
              "      <td>CIRUGIA ADULTO</td>\n",
              "      <td>17321</td>\n",
              "    </tr>\n",
              "    <tr>\n",
              "      <th>3</th>\n",
              "      <td>OTORRINOLARINGOLOGIA</td>\n",
              "      <td>13663</td>\n",
              "    </tr>\n",
              "    <tr>\n",
              "      <th>4</th>\n",
              "      <td>NEUROLOGIA</td>\n",
              "      <td>12316</td>\n",
              "    </tr>\n",
              "    <tr>\n",
              "      <th>5</th>\n",
              "      <td>MEDICINA INTERNA</td>\n",
              "      <td>11408</td>\n",
              "    </tr>\n",
              "    <tr>\n",
              "      <th>6</th>\n",
              "      <td>GINECOLOGIA</td>\n",
              "      <td>10871</td>\n",
              "    </tr>\n",
              "    <tr>\n",
              "      <th>7</th>\n",
              "      <td>ENDODONCIA</td>\n",
              "      <td>10225</td>\n",
              "    </tr>\n",
              "  </tbody>\n",
              "</table>\n",
              "</div>"
            ],
            "text/plain": [
              "             PRESTA_EST  PRESTA_EST_COUNT\n",
              "0         TRAUMATOLOGIA             24004\n",
              "1          OFTALMOLOGIA             21482\n",
              "2        CIRUGIA ADULTO             17321\n",
              "3  OTORRINOLARINGOLOGIA             13663\n",
              "4            NEUROLOGIA             12316\n",
              "5      MEDICINA INTERNA             11408\n",
              "6           GINECOLOGIA             10871\n",
              "7            ENDODONCIA             10225"
            ]
          },
          "metadata": {},
          "execution_count": 5
        }
      ]
    },
    {
      "cell_type": "code",
      "metadata": {
        "colab": {
          "base_uri": "https://localhost:8080/"
        },
        "id": "bE8utIiy1yqB",
        "outputId": "ca1b32ac-d637-48a4-aa01-a455d58140a5"
      },
      "source": [
        "rank_list = rank.PRESTA_EST.values.tolist()\n",
        "rank_list"
      ],
      "execution_count": null,
      "outputs": [
        {
          "output_type": "execute_result",
          "data": {
            "text/plain": [
              "['TRAUMATOLOGIA',\n",
              " 'OFTALMOLOGIA',\n",
              " 'CIRUGIA ADULTO',\n",
              " 'OTORRINOLARINGOLOGIA',\n",
              " 'NEUROLOGIA',\n",
              " 'MEDICINA INTERNA',\n",
              " 'GINECOLOGIA',\n",
              " 'ENDODONCIA']"
            ]
          },
          "metadata": {},
          "execution_count": 6
        }
      ]
    },
    {
      "cell_type": "code",
      "metadata": {
        "colab": {
          "base_uri": "https://localhost:8080/",
          "height": 424
        },
        "id": "1QQOHY0l0K1r",
        "outputId": "625660bf-2d8c-4cb3-fd68-a1120d16ca6b"
      },
      "source": [
        "D10K = aysen_data.loc[aysen_data['PRESTA_EST'].isin(rank_list)]\n",
        "D10K"
      ],
      "execution_count": null,
      "outputs": [
        {
          "output_type": "execute_result",
          "data": {
            "text/html": [
              "<div>\n",
              "<style scoped>\n",
              "    .dataframe tbody tr th:only-of-type {\n",
              "        vertical-align: middle;\n",
              "    }\n",
              "\n",
              "    .dataframe tbody tr th {\n",
              "        vertical-align: top;\n",
              "    }\n",
              "\n",
              "    .dataframe thead th {\n",
              "        text-align: right;\n",
              "    }\n",
              "</style>\n",
              "<table border=\"1\" class=\"dataframe\">\n",
              "  <thead>\n",
              "    <tr style=\"text-align: right;\">\n",
              "      <th></th>\n",
              "      <th>SOSPECHA_DIAG</th>\n",
              "      <th>PRESTA_EST</th>\n",
              "    </tr>\n",
              "  </thead>\n",
              "  <tbody>\n",
              "    <tr>\n",
              "      <th>0</th>\n",
              "      <td>Celulitis y absceso de boca</td>\n",
              "      <td>ENDODONCIA</td>\n",
              "    </tr>\n",
              "    <tr>\n",
              "      <th>4</th>\n",
              "      <td>Celulitis y absceso de boca</td>\n",
              "      <td>ENDODONCIA</td>\n",
              "    </tr>\n",
              "    <tr>\n",
              "      <th>6</th>\n",
              "      <td>FISURA ANAL</td>\n",
              "      <td>CIRUGIA ADULTO</td>\n",
              "    </tr>\n",
              "    <tr>\n",
              "      <th>7</th>\n",
              "      <td>Periodontitis apical aguda originada en la pulpa</td>\n",
              "      <td>ENDODONCIA</td>\n",
              "    </tr>\n",
              "    <tr>\n",
              "      <th>8</th>\n",
              "      <td>Osteomielitis, no especificada</td>\n",
              "      <td>TRAUMATOLOGIA</td>\n",
              "    </tr>\n",
              "    <tr>\n",
              "      <th>...</th>\n",
              "      <td>...</td>\n",
              "      <td>...</td>\n",
              "    </tr>\n",
              "    <tr>\n",
              "      <th>217886</th>\n",
              "      <td>HIPERTENSION ESENCIAL (PRIMARIA)</td>\n",
              "      <td>MEDICINA INTERNA</td>\n",
              "    </tr>\n",
              "    <tr>\n",
              "      <th>217888</th>\n",
              "      <td>Consulta no Especificada</td>\n",
              "      <td>MEDICINA INTERNA</td>\n",
              "    </tr>\n",
              "    <tr>\n",
              "      <th>217889</th>\n",
              "      <td>HERNIAS DEL NUCLEO PULPOSO</td>\n",
              "      <td>NEUROLOGIA</td>\n",
              "    </tr>\n",
              "    <tr>\n",
              "      <th>217892</th>\n",
              "      <td>Consulta no Especificada</td>\n",
              "      <td>CIRUGIA ADULTO</td>\n",
              "    </tr>\n",
              "    <tr>\n",
              "      <th>217894</th>\n",
              "      <td>Consulta no Especificada</td>\n",
              "      <td>TRAUMATOLOGIA</td>\n",
              "    </tr>\n",
              "  </tbody>\n",
              "</table>\n",
              "<p>121290 rows × 2 columns</p>\n",
              "</div>"
            ],
            "text/plain": [
              "                                           SOSPECHA_DIAG        PRESTA_EST\n",
              "0                            Celulitis y absceso de boca        ENDODONCIA\n",
              "4                            Celulitis y absceso de boca        ENDODONCIA\n",
              "6                                            FISURA ANAL    CIRUGIA ADULTO\n",
              "7       Periodontitis apical aguda originada en la pulpa        ENDODONCIA\n",
              "8                         Osteomielitis, no especificada     TRAUMATOLOGIA\n",
              "...                                                  ...               ...\n",
              "217886                  HIPERTENSION ESENCIAL (PRIMARIA)  MEDICINA INTERNA\n",
              "217888                          Consulta no Especificada  MEDICINA INTERNA\n",
              "217889                        HERNIAS DEL NUCLEO PULPOSO        NEUROLOGIA\n",
              "217892                          Consulta no Especificada    CIRUGIA ADULTO\n",
              "217894                          Consulta no Especificada     TRAUMATOLOGIA\n",
              "\n",
              "[121290 rows x 2 columns]"
            ]
          },
          "metadata": {},
          "execution_count": 7
        }
      ]
    },
    {
      "cell_type": "markdown",
      "metadata": {
        "id": "1Cc3Sb0cyKRg"
      },
      "source": [
        "## 3.1 Probabilidad de cada categoría en D10K"
      ]
    },
    {
      "cell_type": "code",
      "metadata": {
        "colab": {
          "base_uri": "https://localhost:8080/",
          "height": 300
        },
        "id": "A5hgTE_V7iNU",
        "outputId": "6c187e4e-c5e5-4543-df5a-2bd10d497cf7"
      },
      "source": [
        "total = rank.PRESTA_EST_COUNT.sum()\n",
        "rank['PROB'] = rank.PRESTA_EST_COUNT/total\n",
        "rank"
      ],
      "execution_count": null,
      "outputs": [
        {
          "output_type": "execute_result",
          "data": {
            "text/html": [
              "<div>\n",
              "<style scoped>\n",
              "    .dataframe tbody tr th:only-of-type {\n",
              "        vertical-align: middle;\n",
              "    }\n",
              "\n",
              "    .dataframe tbody tr th {\n",
              "        vertical-align: top;\n",
              "    }\n",
              "\n",
              "    .dataframe thead th {\n",
              "        text-align: right;\n",
              "    }\n",
              "</style>\n",
              "<table border=\"1\" class=\"dataframe\">\n",
              "  <thead>\n",
              "    <tr style=\"text-align: right;\">\n",
              "      <th></th>\n",
              "      <th>PRESTA_EST</th>\n",
              "      <th>PRESTA_EST_COUNT</th>\n",
              "      <th>PROB</th>\n",
              "    </tr>\n",
              "  </thead>\n",
              "  <tbody>\n",
              "    <tr>\n",
              "      <th>0</th>\n",
              "      <td>TRAUMATOLOGIA</td>\n",
              "      <td>24004</td>\n",
              "      <td>0.197906</td>\n",
              "    </tr>\n",
              "    <tr>\n",
              "      <th>1</th>\n",
              "      <td>OFTALMOLOGIA</td>\n",
              "      <td>21482</td>\n",
              "      <td>0.177113</td>\n",
              "    </tr>\n",
              "    <tr>\n",
              "      <th>2</th>\n",
              "      <td>CIRUGIA ADULTO</td>\n",
              "      <td>17321</td>\n",
              "      <td>0.142806</td>\n",
              "    </tr>\n",
              "    <tr>\n",
              "      <th>3</th>\n",
              "      <td>OTORRINOLARINGOLOGIA</td>\n",
              "      <td>13663</td>\n",
              "      <td>0.112647</td>\n",
              "    </tr>\n",
              "    <tr>\n",
              "      <th>4</th>\n",
              "      <td>NEUROLOGIA</td>\n",
              "      <td>12316</td>\n",
              "      <td>0.101542</td>\n",
              "    </tr>\n",
              "    <tr>\n",
              "      <th>5</th>\n",
              "      <td>MEDICINA INTERNA</td>\n",
              "      <td>11408</td>\n",
              "      <td>0.094056</td>\n",
              "    </tr>\n",
              "    <tr>\n",
              "      <th>6</th>\n",
              "      <td>GINECOLOGIA</td>\n",
              "      <td>10871</td>\n",
              "      <td>0.089628</td>\n",
              "    </tr>\n",
              "    <tr>\n",
              "      <th>7</th>\n",
              "      <td>ENDODONCIA</td>\n",
              "      <td>10225</td>\n",
              "      <td>0.084302</td>\n",
              "    </tr>\n",
              "  </tbody>\n",
              "</table>\n",
              "</div>"
            ],
            "text/plain": [
              "             PRESTA_EST  PRESTA_EST_COUNT      PROB\n",
              "0         TRAUMATOLOGIA             24004  0.197906\n",
              "1          OFTALMOLOGIA             21482  0.177113\n",
              "2        CIRUGIA ADULTO             17321  0.142806\n",
              "3  OTORRINOLARINGOLOGIA             13663  0.112647\n",
              "4            NEUROLOGIA             12316  0.101542\n",
              "5      MEDICINA INTERNA             11408  0.094056\n",
              "6           GINECOLOGIA             10871  0.089628\n",
              "7            ENDODONCIA             10225  0.084302"
            ]
          },
          "metadata": {},
          "execution_count": 8
        }
      ]
    },
    {
      "cell_type": "markdown",
      "metadata": {
        "id": "X-ZA1Lm19ryc"
      },
      "source": [
        "## 3.2 Diccionario P(palabra|categoria)."
      ]
    },
    {
      "cell_type": "code",
      "metadata": {
        "id": "beip0YRRSHOY"
      },
      "source": [
        "from sklearn.model_selection import train_test_split\n",
        "train, test = train_test_split(D10K, test_size=0.1)"
      ],
      "execution_count": null,
      "outputs": []
    },
    {
      "cell_type": "code",
      "metadata": {
        "colab": {
          "base_uri": "https://localhost:8080/"
        },
        "id": "NiYjRW7C9ixp",
        "outputId": "e5ec12f9-52ad-4320-cffb-1974e60e6325"
      },
      "source": [
        "count_vectorizer = sklearn.feature_extraction.text.CountVectorizer() #Se podrían quitar las stopwords\n",
        "term_doc_matrix_train = count_vectorizer.fit_transform(train.SOSPECHA_DIAG)\n",
        "term_doc_matrix_train"
      ],
      "execution_count": null,
      "outputs": [
        {
          "output_type": "execute_result",
          "data": {
            "text/plain": [
              "<109161x4348 sparse matrix of type '<class 'numpy.int64'>'\n",
              "\twith 444158 stored elements in Compressed Sparse Row format>"
            ]
          },
          "metadata": {},
          "execution_count": 15
        }
      ]
    },
    {
      "cell_type": "code",
      "metadata": {
        "colab": {
          "base_uri": "https://localhost:8080/"
        },
        "id": "3KPPJTB2EETg",
        "outputId": "135ded21-0314-4cb7-eb10-7a6bf99e2856"
      },
      "source": [
        "import numpy as np\n",
        "\n",
        "p_word_category = {}\n",
        "for index, row in rank.iterrows():\n",
        "  category = row['PRESTA_EST']\n",
        "  count_c = row['PRESTA_EST_COUNT']\n",
        "  # Se obtienen las apariciones de cada una de las palabras en cada clase\n",
        "  c_w = np.asarray(term_doc_matrix_train.todense()[train.PRESTA_EST == category,:].sum(0)).reshape(-1)\n",
        "  # Se calcula la probabilidad\n",
        "  p_w = (c_w + 1) / count_c\n",
        "  p_word_category[category] = p_w\n",
        "p_word_category"
      ],
      "execution_count": null,
      "outputs": [
        {
          "output_type": "execute_result",
          "data": {
            "text/plain": [
              "{'CIRUGIA ADULTO': array([1.73200162e-04, 5.77333872e-05, 5.77333872e-05, ...,\n",
              "        5.77333872e-05, 5.77333872e-05, 5.77333872e-05]),\n",
              " 'ENDODONCIA': array([9.7799511e-05, 9.7799511e-05, 9.7799511e-05, ..., 9.7799511e-05,\n",
              "        9.7799511e-05, 9.7799511e-05]),\n",
              " 'GINECOLOGIA': array([9.19878576e-05, 9.19878576e-05, 9.19878576e-05, ...,\n",
              "        4.59939288e-04, 1.15904701e-02, 9.19878576e-05]),\n",
              " 'MEDICINA INTERNA': array([8.76577840e-05, 2.62973352e-04, 8.76577840e-05, ...,\n",
              "        8.76577840e-05, 3.50631136e-04, 8.76577840e-05]),\n",
              " 'NEUROLOGIA': array([8.11951932e-05, 8.11951932e-05, 8.11951932e-05, ...,\n",
              "        8.11951932e-05, 8.11951932e-05, 8.11951932e-05]),\n",
              " 'OFTALMOLOGIA': array([4.65506005e-05, 4.65506005e-05, 4.65506005e-05, ...,\n",
              "        4.65506005e-05, 4.65506005e-05, 4.65506005e-05]),\n",
              " 'OTORRINOLARINGOLOGIA': array([7.31903681e-05, 7.31903681e-05, 1.46380736e-04, ...,\n",
              "        7.31903681e-05, 1.46380736e-04, 1.46380736e-04]),\n",
              " 'TRAUMATOLOGIA': array([4.16597234e-05, 4.16597234e-05, 4.16597234e-05, ...,\n",
              "        4.16597234e-05, 4.16597234e-05, 4.16597234e-05])}"
            ]
          },
          "metadata": {},
          "execution_count": 17
        }
      ]
    }
  ]
}