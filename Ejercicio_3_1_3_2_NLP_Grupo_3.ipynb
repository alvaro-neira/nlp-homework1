{
  "nbformat": 4,
  "nbformat_minor": 0,
  "metadata": {
    "colab": {
      "name": "Ejercicio 3.1 3.2 -  NLP Grupo 3.ipynb",
      "provenance": [],
      "collapsed_sections": [],
      "toc_visible": true,
      "machine_shape": "hm"
    },
    "kernelspec": {
      "name": "python3",
      "display_name": "Python 3"
    },
    "language_info": {
      "name": "python"
    },
    "accelerator": "GPU"
  },
  "cells": [
    {
      "cell_type": "markdown",
      "metadata": {
        "id": "UXWvxhhRz8Hi"
      },
      "source": [
        "#Integrantes de la tarea"
      ]
    },
    {
      "cell_type": "markdown",
      "metadata": {
        "id": "xw90yC-A0PLr"
      },
      "source": [
        "Integrantes del grupo:\n",
        "\n",
        "* Integrante 1:Matias Rodriguez U. Rut: 18362815-1\n",
        "* Integrante 2:Paula Canales G. Rut:18845155-1\n",
        "* Integrante 3:Sebastián Alday Rut:18294095-k\n",
        "* Integrante 4:Álvaro Neira R. Rut:13757209-5"
      ]
    },
    {
      "cell_type": "markdown",
      "metadata": {
        "id": "BQqLxqHQq-GN"
      },
      "source": [
        "# Importación de Librerias"
      ]
    },
    {
      "cell_type": "markdown",
      "metadata": {
        "id": "H83KqYty7Isi"
      },
      "source": [
        "Estas son las bibliotecas y módulos necesarios."
      ]
    },
    {
      "cell_type": "code",
      "metadata": {
        "id": "21BbHj_N7G0D"
      },
      "source": [
        "import pandas as pd\n",
        "import re\n",
        "import numpy as np\n",
        "import spacy\n",
        "import nltk\n",
        "import sklearn\n",
        "import wordcloud\n",
        "import matplotlib.pyplot as plt\n",
        "import pandas as pd\n",
        "import random\n",
        "from sklearn.model_selection import train_test_split"
      ],
      "execution_count": null,
      "outputs": []
    },
    {
      "cell_type": "markdown",
      "metadata": {
        "id": "syvGtkFOsYgv"
      },
      "source": [
        "# Datos Necesarios"
      ]
    },
    {
      "cell_type": "markdown",
      "metadata": {
        "id": "Lexwob8PrGvc"
      },
      "source": [
        "Descargamos los datos necesarios para las actividades"
      ]
    },
    {
      "cell_type": "code",
      "metadata": {
        "id": "hF7EbQTkqeBU",
        "colab": {
          "base_uri": "https://localhost:8080/"
        },
        "outputId": "cf5302e7-8e0e-4c5f-9683-9541cc24c74c"
      },
      "source": [
        "!wget https://raw.githubusercontent.com/fvillena/dcc-ia-nlp/master/data/aysen.csv\n",
        "#!wget https://raw.githubusercontent.com/fvillena/dcc-ia-nlp/master/data/aysen_corto.csv\n",
        "#!wget https://raw.githubusercontent.com/fvillena/dcc-ia-nlp/master/data/proveedoresA.txt\n",
        "#!wget https://raw.githubusercontent.com/fvillena/dcc-ia-nlp/master/data/other_vhosts_access.log\n",
        "nltk.download('stopwords')\n",
        "nltk.download('wordnet')\n",
        "!python -m spacy download es_core_news_sm\n",
        "import es_core_news_sm\n",
        "nlp_es = es_core_news_sm.load()"
      ],
      "execution_count": null,
      "outputs": [
        {
          "output_type": "stream",
          "name": "stdout",
          "text": [
            "--2021-12-05 19:47:08--  https://raw.githubusercontent.com/fvillena/dcc-ia-nlp/master/data/aysen.csv\n",
            "Resolving raw.githubusercontent.com (raw.githubusercontent.com)... 185.199.108.133, 185.199.109.133, 185.199.110.133, ...\n",
            "Connecting to raw.githubusercontent.com (raw.githubusercontent.com)|185.199.108.133|:443... connected.\n",
            "HTTP request sent, awaiting response... 200 OK\n",
            "Length: 29482924 (28M) [text/plain]\n",
            "Saving to: ‘aysen.csv.2’\n",
            "\n",
            "\raysen.csv.2           0%[                    ]       0  --.-KB/s               \raysen.csv.2         100%[===================>]  28.12M   173MB/s    in 0.2s    \n",
            "\n",
            "2021-12-05 19:47:08 (173 MB/s) - ‘aysen.csv.2’ saved [29482924/29482924]\n",
            "\n",
            "[nltk_data] Downloading package stopwords to /root/nltk_data...\n",
            "[nltk_data]   Package stopwords is already up-to-date!\n",
            "[nltk_data] Downloading package wordnet to /root/nltk_data...\n",
            "[nltk_data]   Package wordnet is already up-to-date!\n",
            "Collecting es_core_news_sm==2.2.5\n",
            "  Downloading https://github.com/explosion/spacy-models/releases/download/es_core_news_sm-2.2.5/es_core_news_sm-2.2.5.tar.gz (16.2 MB)\n",
            "\u001b[K     |████████████████████████████████| 16.2 MB 11.0 MB/s \n",
            "\u001b[?25hRequirement already satisfied: spacy>=2.2.2 in /usr/local/lib/python3.7/dist-packages (from es_core_news_sm==2.2.5) (2.2.4)\n",
            "Requirement already satisfied: murmurhash<1.1.0,>=0.28.0 in /usr/local/lib/python3.7/dist-packages (from spacy>=2.2.2->es_core_news_sm==2.2.5) (1.0.6)\n",
            "Requirement already satisfied: preshed<3.1.0,>=3.0.2 in /usr/local/lib/python3.7/dist-packages (from spacy>=2.2.2->es_core_news_sm==2.2.5) (3.0.6)\n",
            "Requirement already satisfied: wasabi<1.1.0,>=0.4.0 in /usr/local/lib/python3.7/dist-packages (from spacy>=2.2.2->es_core_news_sm==2.2.5) (0.8.2)\n",
            "Requirement already satisfied: srsly<1.1.0,>=1.0.2 in /usr/local/lib/python3.7/dist-packages (from spacy>=2.2.2->es_core_news_sm==2.2.5) (1.0.5)\n",
            "Requirement already satisfied: catalogue<1.1.0,>=0.0.7 in /usr/local/lib/python3.7/dist-packages (from spacy>=2.2.2->es_core_news_sm==2.2.5) (1.0.0)\n",
            "Requirement already satisfied: setuptools in /usr/local/lib/python3.7/dist-packages (from spacy>=2.2.2->es_core_news_sm==2.2.5) (57.4.0)\n",
            "Requirement already satisfied: tqdm<5.0.0,>=4.38.0 in /usr/local/lib/python3.7/dist-packages (from spacy>=2.2.2->es_core_news_sm==2.2.5) (4.62.3)\n",
            "Requirement already satisfied: plac<1.2.0,>=0.9.6 in /usr/local/lib/python3.7/dist-packages (from spacy>=2.2.2->es_core_news_sm==2.2.5) (1.1.3)\n",
            "Requirement already satisfied: requests<3.0.0,>=2.13.0 in /usr/local/lib/python3.7/dist-packages (from spacy>=2.2.2->es_core_news_sm==2.2.5) (2.23.0)\n",
            "Requirement already satisfied: thinc==7.4.0 in /usr/local/lib/python3.7/dist-packages (from spacy>=2.2.2->es_core_news_sm==2.2.5) (7.4.0)\n",
            "Requirement already satisfied: numpy>=1.15.0 in /usr/local/lib/python3.7/dist-packages (from spacy>=2.2.2->es_core_news_sm==2.2.5) (1.19.5)\n",
            "Requirement already satisfied: cymem<2.1.0,>=2.0.2 in /usr/local/lib/python3.7/dist-packages (from spacy>=2.2.2->es_core_news_sm==2.2.5) (2.0.6)\n",
            "Requirement already satisfied: blis<0.5.0,>=0.4.0 in /usr/local/lib/python3.7/dist-packages (from spacy>=2.2.2->es_core_news_sm==2.2.5) (0.4.1)\n",
            "Requirement already satisfied: importlib-metadata>=0.20 in /usr/local/lib/python3.7/dist-packages (from catalogue<1.1.0,>=0.0.7->spacy>=2.2.2->es_core_news_sm==2.2.5) (4.8.2)\n",
            "Requirement already satisfied: typing-extensions>=3.6.4 in /usr/local/lib/python3.7/dist-packages (from importlib-metadata>=0.20->catalogue<1.1.0,>=0.0.7->spacy>=2.2.2->es_core_news_sm==2.2.5) (3.10.0.2)\n",
            "Requirement already satisfied: zipp>=0.5 in /usr/local/lib/python3.7/dist-packages (from importlib-metadata>=0.20->catalogue<1.1.0,>=0.0.7->spacy>=2.2.2->es_core_news_sm==2.2.5) (3.6.0)\n",
            "Requirement already satisfied: urllib3!=1.25.0,!=1.25.1,<1.26,>=1.21.1 in /usr/local/lib/python3.7/dist-packages (from requests<3.0.0,>=2.13.0->spacy>=2.2.2->es_core_news_sm==2.2.5) (1.24.3)\n",
            "Requirement already satisfied: idna<3,>=2.5 in /usr/local/lib/python3.7/dist-packages (from requests<3.0.0,>=2.13.0->spacy>=2.2.2->es_core_news_sm==2.2.5) (2.10)\n",
            "Requirement already satisfied: chardet<4,>=3.0.2 in /usr/local/lib/python3.7/dist-packages (from requests<3.0.0,>=2.13.0->spacy>=2.2.2->es_core_news_sm==2.2.5) (3.0.4)\n",
            "Requirement already satisfied: certifi>=2017.4.17 in /usr/local/lib/python3.7/dist-packages (from requests<3.0.0,>=2.13.0->spacy>=2.2.2->es_core_news_sm==2.2.5) (2021.10.8)\n",
            "\u001b[38;5;2m✔ Download and installation successful\u001b[0m\n",
            "You can now load the model via spacy.load('es_core_news_sm')\n"
          ]
        }
      ]
    },
    {
      "cell_type": "markdown",
      "metadata": {
        "id": "EDDUUTUtrN3E"
      },
      "source": [
        "# 1 Limpieza de la base de datos \n"
      ]
    },
    {
      "cell_type": "markdown",
      "metadata": {
        "id": "jVQz6dN1tuun"
      },
      "source": [
        "##Dataset"
      ]
    },
    {
      "cell_type": "code",
      "metadata": {
        "id": "5lyv2yDdu-GX",
        "colab": {
          "base_uri": "https://localhost:8080/"
        },
        "outputId": "b3062b98-88d6-493c-c775-913fba54b101"
      },
      "source": [
        "aysen = pd.read_csv(\"aysen.csv\", sep=\";\", na_values=[\"Otro\",\"\"])"
      ],
      "execution_count": null,
      "outputs": [
        {
          "output_type": "stream",
          "name": "stderr",
          "text": [
            "/usr/local/lib/python3.7/dist-packages/IPython/core/interactiveshell.py:2718: DtypeWarning: Columns (0) have mixed types.Specify dtype option on import or set low_memory=False.\n",
            "  interactivity=interactivity, compiler=compiler, result=result)\n"
          ]
        }
      ]
    },
    {
      "cell_type": "markdown",
      "metadata": {
        "id": "saqhDn5uws3A"
      },
      "source": [
        "# 3. Análisis no supervisado"
      ]
    },
    {
      "cell_type": "markdown",
      "metadata": {
        "id": "6K2xz1P4QX6I"
      },
      "source": [
        "**En esta parte volví a calcular el D10K porque creo que así es más mejor**\n"
      ]
    },
    {
      "cell_type": "code",
      "metadata": {
        "id": "WWm_szyazcDB"
      },
      "source": [
        "aysen_data = aysen[[\"SOSPECHA_DIAG\",\"PRESTA_EST\"]]"
      ],
      "execution_count": null,
      "outputs": []
    },
    {
      "cell_type": "code",
      "metadata": {
        "colab": {
          "base_uri": "https://localhost:8080/",
          "height": 300
        },
        "id": "wUsNnV6v10FK",
        "outputId": "18f86c44-d2b6-4bb8-8b3e-03dc639c0481"
      },
      "source": [
        "import json\n",
        "rank = json.loads(aysen_data.PRESTA_EST.value_counts().to_json())\n",
        "rank = pd.DataFrame(list(rank.items()),columns = ['PRESTA_EST','PRESTA_EST_COUNT'])\n",
        "rank = rank.loc[rank['PRESTA_EST_COUNT'] > 10000]\n",
        "rank"
      ],
      "execution_count": null,
      "outputs": [
        {
          "output_type": "execute_result",
          "data": {
            "text/html": [
              "<div>\n",
              "<style scoped>\n",
              "    .dataframe tbody tr th:only-of-type {\n",
              "        vertical-align: middle;\n",
              "    }\n",
              "\n",
              "    .dataframe tbody tr th {\n",
              "        vertical-align: top;\n",
              "    }\n",
              "\n",
              "    .dataframe thead th {\n",
              "        text-align: right;\n",
              "    }\n",
              "</style>\n",
              "<table border=\"1\" class=\"dataframe\">\n",
              "  <thead>\n",
              "    <tr style=\"text-align: right;\">\n",
              "      <th></th>\n",
              "      <th>PRESTA_EST</th>\n",
              "      <th>PRESTA_EST_COUNT</th>\n",
              "    </tr>\n",
              "  </thead>\n",
              "  <tbody>\n",
              "    <tr>\n",
              "      <th>0</th>\n",
              "      <td>TRAUMATOLOGIA</td>\n",
              "      <td>24004</td>\n",
              "    </tr>\n",
              "    <tr>\n",
              "      <th>1</th>\n",
              "      <td>OFTALMOLOGIA</td>\n",
              "      <td>21482</td>\n",
              "    </tr>\n",
              "    <tr>\n",
              "      <th>2</th>\n",
              "      <td>CIRUGIA ADULTO</td>\n",
              "      <td>17321</td>\n",
              "    </tr>\n",
              "    <tr>\n",
              "      <th>3</th>\n",
              "      <td>OTORRINOLARINGOLOGIA</td>\n",
              "      <td>13663</td>\n",
              "    </tr>\n",
              "    <tr>\n",
              "      <th>4</th>\n",
              "      <td>NEUROLOGIA</td>\n",
              "      <td>12316</td>\n",
              "    </tr>\n",
              "    <tr>\n",
              "      <th>5</th>\n",
              "      <td>MEDICINA INTERNA</td>\n",
              "      <td>11408</td>\n",
              "    </tr>\n",
              "    <tr>\n",
              "      <th>6</th>\n",
              "      <td>GINECOLOGIA</td>\n",
              "      <td>10871</td>\n",
              "    </tr>\n",
              "    <tr>\n",
              "      <th>7</th>\n",
              "      <td>ENDODONCIA</td>\n",
              "      <td>10225</td>\n",
              "    </tr>\n",
              "  </tbody>\n",
              "</table>\n",
              "</div>"
            ],
            "text/plain": [
              "             PRESTA_EST  PRESTA_EST_COUNT\n",
              "0         TRAUMATOLOGIA             24004\n",
              "1          OFTALMOLOGIA             21482\n",
              "2        CIRUGIA ADULTO             17321\n",
              "3  OTORRINOLARINGOLOGIA             13663\n",
              "4            NEUROLOGIA             12316\n",
              "5      MEDICINA INTERNA             11408\n",
              "6           GINECOLOGIA             10871\n",
              "7            ENDODONCIA             10225"
            ]
          },
          "metadata": {},
          "execution_count": 34
        }
      ]
    },
    {
      "cell_type": "code",
      "metadata": {
        "colab": {
          "base_uri": "https://localhost:8080/"
        },
        "id": "bE8utIiy1yqB",
        "outputId": "0037c374-9ff4-4e9b-d81f-c0ac2c2fe830"
      },
      "source": [
        "rank_list = rank.PRESTA_EST.values.tolist()\n",
        "rank_list"
      ],
      "execution_count": null,
      "outputs": [
        {
          "output_type": "execute_result",
          "data": {
            "text/plain": [
              "['TRAUMATOLOGIA',\n",
              " 'OFTALMOLOGIA',\n",
              " 'CIRUGIA ADULTO',\n",
              " 'OTORRINOLARINGOLOGIA',\n",
              " 'NEUROLOGIA',\n",
              " 'MEDICINA INTERNA',\n",
              " 'GINECOLOGIA',\n",
              " 'ENDODONCIA']"
            ]
          },
          "metadata": {},
          "execution_count": 35
        }
      ]
    },
    {
      "cell_type": "code",
      "metadata": {
        "colab": {
          "base_uri": "https://localhost:8080/",
          "height": 424
        },
        "id": "1QQOHY0l0K1r",
        "outputId": "b6695594-de8d-417f-e764-2b1015df7ff9"
      },
      "source": [
        "D10K = aysen_data.loc[aysen_data['PRESTA_EST'].isin(rank_list)]\n",
        "D10K"
      ],
      "execution_count": null,
      "outputs": [
        {
          "output_type": "execute_result",
          "data": {
            "text/html": [
              "<div>\n",
              "<style scoped>\n",
              "    .dataframe tbody tr th:only-of-type {\n",
              "        vertical-align: middle;\n",
              "    }\n",
              "\n",
              "    .dataframe tbody tr th {\n",
              "        vertical-align: top;\n",
              "    }\n",
              "\n",
              "    .dataframe thead th {\n",
              "        text-align: right;\n",
              "    }\n",
              "</style>\n",
              "<table border=\"1\" class=\"dataframe\">\n",
              "  <thead>\n",
              "    <tr style=\"text-align: right;\">\n",
              "      <th></th>\n",
              "      <th>SOSPECHA_DIAG</th>\n",
              "      <th>PRESTA_EST</th>\n",
              "    </tr>\n",
              "  </thead>\n",
              "  <tbody>\n",
              "    <tr>\n",
              "      <th>0</th>\n",
              "      <td>Celulitis y absceso de boca</td>\n",
              "      <td>ENDODONCIA</td>\n",
              "    </tr>\n",
              "    <tr>\n",
              "      <th>4</th>\n",
              "      <td>Celulitis y absceso de boca</td>\n",
              "      <td>ENDODONCIA</td>\n",
              "    </tr>\n",
              "    <tr>\n",
              "      <th>6</th>\n",
              "      <td>FISURA ANAL</td>\n",
              "      <td>CIRUGIA ADULTO</td>\n",
              "    </tr>\n",
              "    <tr>\n",
              "      <th>7</th>\n",
              "      <td>Periodontitis apical aguda originada en la pulpa</td>\n",
              "      <td>ENDODONCIA</td>\n",
              "    </tr>\n",
              "    <tr>\n",
              "      <th>8</th>\n",
              "      <td>Osteomielitis, no especificada</td>\n",
              "      <td>TRAUMATOLOGIA</td>\n",
              "    </tr>\n",
              "    <tr>\n",
              "      <th>...</th>\n",
              "      <td>...</td>\n",
              "      <td>...</td>\n",
              "    </tr>\n",
              "    <tr>\n",
              "      <th>217886</th>\n",
              "      <td>HIPERTENSION ESENCIAL (PRIMARIA)</td>\n",
              "      <td>MEDICINA INTERNA</td>\n",
              "    </tr>\n",
              "    <tr>\n",
              "      <th>217888</th>\n",
              "      <td>Consulta no Especificada</td>\n",
              "      <td>MEDICINA INTERNA</td>\n",
              "    </tr>\n",
              "    <tr>\n",
              "      <th>217889</th>\n",
              "      <td>HERNIAS DEL NUCLEO PULPOSO</td>\n",
              "      <td>NEUROLOGIA</td>\n",
              "    </tr>\n",
              "    <tr>\n",
              "      <th>217892</th>\n",
              "      <td>Consulta no Especificada</td>\n",
              "      <td>CIRUGIA ADULTO</td>\n",
              "    </tr>\n",
              "    <tr>\n",
              "      <th>217894</th>\n",
              "      <td>Consulta no Especificada</td>\n",
              "      <td>TRAUMATOLOGIA</td>\n",
              "    </tr>\n",
              "  </tbody>\n",
              "</table>\n",
              "<p>121290 rows × 2 columns</p>\n",
              "</div>"
            ],
            "text/plain": [
              "                                           SOSPECHA_DIAG        PRESTA_EST\n",
              "0                            Celulitis y absceso de boca        ENDODONCIA\n",
              "4                            Celulitis y absceso de boca        ENDODONCIA\n",
              "6                                            FISURA ANAL    CIRUGIA ADULTO\n",
              "7       Periodontitis apical aguda originada en la pulpa        ENDODONCIA\n",
              "8                         Osteomielitis, no especificada     TRAUMATOLOGIA\n",
              "...                                                  ...               ...\n",
              "217886                  HIPERTENSION ESENCIAL (PRIMARIA)  MEDICINA INTERNA\n",
              "217888                          Consulta no Especificada  MEDICINA INTERNA\n",
              "217889                        HERNIAS DEL NUCLEO PULPOSO        NEUROLOGIA\n",
              "217892                          Consulta no Especificada    CIRUGIA ADULTO\n",
              "217894                          Consulta no Especificada     TRAUMATOLOGIA\n",
              "\n",
              "[121290 rows x 2 columns]"
            ]
          },
          "metadata": {},
          "execution_count": 36
        }
      ]
    },
    {
      "cell_type": "markdown",
      "metadata": {
        "id": "1Cc3Sb0cyKRg"
      },
      "source": [
        "## 3.1 Probabilidad de cada categoría en D10K"
      ]
    },
    {
      "cell_type": "code",
      "metadata": {
        "colab": {
          "base_uri": "https://localhost:8080/",
          "height": 300
        },
        "id": "A5hgTE_V7iNU",
        "outputId": "076a7a1e-57b5-4341-857e-1a8baa9af0e1"
      },
      "source": [
        "total = rank.PRESTA_EST_COUNT.sum()\n",
        "rank['PROB'] = rank.PRESTA_EST_COUNT/total\n",
        "rank"
      ],
      "execution_count": null,
      "outputs": [
        {
          "output_type": "execute_result",
          "data": {
            "text/html": [
              "<div>\n",
              "<style scoped>\n",
              "    .dataframe tbody tr th:only-of-type {\n",
              "        vertical-align: middle;\n",
              "    }\n",
              "\n",
              "    .dataframe tbody tr th {\n",
              "        vertical-align: top;\n",
              "    }\n",
              "\n",
              "    .dataframe thead th {\n",
              "        text-align: right;\n",
              "    }\n",
              "</style>\n",
              "<table border=\"1\" class=\"dataframe\">\n",
              "  <thead>\n",
              "    <tr style=\"text-align: right;\">\n",
              "      <th></th>\n",
              "      <th>PRESTA_EST</th>\n",
              "      <th>PRESTA_EST_COUNT</th>\n",
              "      <th>PROB</th>\n",
              "    </tr>\n",
              "  </thead>\n",
              "  <tbody>\n",
              "    <tr>\n",
              "      <th>0</th>\n",
              "      <td>TRAUMATOLOGIA</td>\n",
              "      <td>24004</td>\n",
              "      <td>0.197906</td>\n",
              "    </tr>\n",
              "    <tr>\n",
              "      <th>1</th>\n",
              "      <td>OFTALMOLOGIA</td>\n",
              "      <td>21482</td>\n",
              "      <td>0.177113</td>\n",
              "    </tr>\n",
              "    <tr>\n",
              "      <th>2</th>\n",
              "      <td>CIRUGIA ADULTO</td>\n",
              "      <td>17321</td>\n",
              "      <td>0.142806</td>\n",
              "    </tr>\n",
              "    <tr>\n",
              "      <th>3</th>\n",
              "      <td>OTORRINOLARINGOLOGIA</td>\n",
              "      <td>13663</td>\n",
              "      <td>0.112647</td>\n",
              "    </tr>\n",
              "    <tr>\n",
              "      <th>4</th>\n",
              "      <td>NEUROLOGIA</td>\n",
              "      <td>12316</td>\n",
              "      <td>0.101542</td>\n",
              "    </tr>\n",
              "    <tr>\n",
              "      <th>5</th>\n",
              "      <td>MEDICINA INTERNA</td>\n",
              "      <td>11408</td>\n",
              "      <td>0.094056</td>\n",
              "    </tr>\n",
              "    <tr>\n",
              "      <th>6</th>\n",
              "      <td>GINECOLOGIA</td>\n",
              "      <td>10871</td>\n",
              "      <td>0.089628</td>\n",
              "    </tr>\n",
              "    <tr>\n",
              "      <th>7</th>\n",
              "      <td>ENDODONCIA</td>\n",
              "      <td>10225</td>\n",
              "      <td>0.084302</td>\n",
              "    </tr>\n",
              "  </tbody>\n",
              "</table>\n",
              "</div>"
            ],
            "text/plain": [
              "             PRESTA_EST  PRESTA_EST_COUNT      PROB\n",
              "0         TRAUMATOLOGIA             24004  0.197906\n",
              "1          OFTALMOLOGIA             21482  0.177113\n",
              "2        CIRUGIA ADULTO             17321  0.142806\n",
              "3  OTORRINOLARINGOLOGIA             13663  0.112647\n",
              "4            NEUROLOGIA             12316  0.101542\n",
              "5      MEDICINA INTERNA             11408  0.094056\n",
              "6           GINECOLOGIA             10871  0.089628\n",
              "7            ENDODONCIA             10225  0.084302"
            ]
          },
          "metadata": {},
          "execution_count": 37
        }
      ]
    },
    {
      "cell_type": "code",
      "metadata": {
        "colab": {
          "base_uri": "https://localhost:8080/"
        },
        "id": "hFBtq3-bDWwW",
        "outputId": "7cee462b-eaa8-4ca0-aa51-3a960c4deb08"
      },
      "source": [
        "total"
      ],
      "execution_count": null,
      "outputs": [
        {
          "output_type": "execute_result",
          "data": {
            "text/plain": [
              "121290"
            ]
          },
          "metadata": {},
          "execution_count": 38
        }
      ]
    },
    {
      "cell_type": "markdown",
      "metadata": {
        "id": "X-ZA1Lm19ryc"
      },
      "source": [
        "## 3.2 Diccionario P(palabra|categoria)."
      ]
    },
    {
      "cell_type": "markdown",
      "metadata": {
        "id": "7mmSYjNzLRgt"
      },
      "source": [
        "![Captura de pantalla de 2021-12-03 09-02-31.png](data:image/png;base64,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)"
      ]
    },
    {
      "cell_type": "markdown",
      "metadata": {
        "id": "xbKwDCJhNEJg"
      },
      "source": [
        "Se divide en entrenamiento y test la data de D10K (90% y 10% respectivamente)"
      ]
    },
    {
      "cell_type": "code",
      "metadata": {
        "id": "beip0YRRSHOY"
      },
      "source": [
        "train, test = train_test_split(D10K, test_size=0.1)"
      ],
      "execution_count": null,
      "outputs": []
    },
    {
      "cell_type": "markdown",
      "metadata": {
        "id": "rizTbBknNPim"
      },
      "source": [
        "Se construye el vector en base a la data de entrenamiento"
      ]
    },
    {
      "cell_type": "code",
      "metadata": {
        "colab": {
          "base_uri": "https://localhost:8080/"
        },
        "id": "NiYjRW7C9ixp",
        "outputId": "67662fe8-8e81-4bbe-ae34-70643848c94f"
      },
      "source": [
        "count_vectorizer = sklearn.feature_extraction.text.CountVectorizer() #Se podrían quitar las stopwords\n",
        "term_doc_matrix_train = count_vectorizer.fit_transform(train.SOSPECHA_DIAG)\n",
        "#term_doc_matrix_train = count_vectorizer.fit_transform(D10KOTRO.SOSPECHA_DIAG)\n",
        "term_doc_matrix_train"
      ],
      "execution_count": null,
      "outputs": [
        {
          "output_type": "execute_result",
          "data": {
            "text/plain": [
              "<109161x4383 sparse matrix of type '<class 'numpy.int64'>'\n",
              "\twith 444234 stored elements in Compressed Sparse Row format>"
            ]
          },
          "metadata": {},
          "execution_count": 40
        }
      ]
    },
    {
      "cell_type": "markdown",
      "metadata": {
        "id": "DZdUg9z2NXrg"
      },
      "source": [
        "Se calcula la probabilidad de cada palabra según categoría"
      ]
    },
    {
      "cell_type": "code",
      "metadata": {
        "id": "BzgTSq-iKFaf"
      },
      "source": [
        ""
      ],
      "execution_count": null,
      "outputs": []
    },
    {
      "cell_type": "markdown",
      "metadata": {
        "id": "NogbVtdXS2kq"
      },
      "source": [
        "#Ejemplo Matías"
      ]
    },
    {
      "cell_type": "markdown",
      "metadata": {
        "id": "ZhdYrjn8TLWV"
      },
      "source": [
        "##Dataset Ejemplo"
      ]
    },
    {
      "cell_type": "code",
      "metadata": {
        "id": "1DA8WDv8EIlA"
      },
      "source": [
        "D10K=D10K.reset_index(drop=True)"
      ],
      "execution_count": null,
      "outputs": []
    },
    {
      "cell_type": "code",
      "metadata": {
        "id": "Bn5uy_GPEnUD"
      },
      "source": [
        "D10KOTRO=D10K.loc[[0,1,2,3,4,5],[\"SOSPECHA_DIAG\",\"PRESTA_EST\"]]"
      ],
      "execution_count": null,
      "outputs": []
    },
    {
      "cell_type": "code",
      "metadata": {
        "id": "kY4DZ9oULTLQ"
      },
      "source": [
        "D10KOTRO[\"SOSPECHA_DIAG\"].iloc[0]=\"Celulitis boca\"\n",
        "D10KOTRO[\"SOSPECHA_DIAG\"].iloc[1]=\"Celulitis boca\"\n",
        "D10KOTRO[\"SOSPECHA_DIAG\"].iloc[2]=\"Fisura\"\n",
        "D10KOTRO[\"SOSPECHA_DIAG\"].iloc[3]=\"Periodontitis\"\n",
        "D10KOTRO[\"SOSPECHA_DIAG\"].iloc[4]=\"Osteomielitis\"\n",
        "D10KOTRO[\"SOSPECHA_DIAG\"].iloc[5]=\"No Especificado\""
      ],
      "execution_count": null,
      "outputs": []
    },
    {
      "cell_type": "code",
      "metadata": {
        "colab": {
          "base_uri": "https://localhost:8080/",
          "height": 238
        },
        "id": "GbHC1uK4HGN0",
        "outputId": "0ec2ff65-9cab-405c-d333-d9d29490af75"
      },
      "source": [
        "D10KOTRO"
      ],
      "execution_count": null,
      "outputs": [
        {
          "output_type": "execute_result",
          "data": {
            "text/html": [
              "<div>\n",
              "<style scoped>\n",
              "    .dataframe tbody tr th:only-of-type {\n",
              "        vertical-align: middle;\n",
              "    }\n",
              "\n",
              "    .dataframe tbody tr th {\n",
              "        vertical-align: top;\n",
              "    }\n",
              "\n",
              "    .dataframe thead th {\n",
              "        text-align: right;\n",
              "    }\n",
              "</style>\n",
              "<table border=\"1\" class=\"dataframe\">\n",
              "  <thead>\n",
              "    <tr style=\"text-align: right;\">\n",
              "      <th></th>\n",
              "      <th>SOSPECHA_DIAG</th>\n",
              "      <th>PRESTA_EST</th>\n",
              "    </tr>\n",
              "  </thead>\n",
              "  <tbody>\n",
              "    <tr>\n",
              "      <th>0</th>\n",
              "      <td>Celulitis boca</td>\n",
              "      <td>ENDODONCIA</td>\n",
              "    </tr>\n",
              "    <tr>\n",
              "      <th>1</th>\n",
              "      <td>Celulitis boca</td>\n",
              "      <td>ENDODONCIA</td>\n",
              "    </tr>\n",
              "    <tr>\n",
              "      <th>2</th>\n",
              "      <td>Fisura</td>\n",
              "      <td>CIRUGIA ADULTO</td>\n",
              "    </tr>\n",
              "    <tr>\n",
              "      <th>3</th>\n",
              "      <td>Periodontitis</td>\n",
              "      <td>ENDODONCIA</td>\n",
              "    </tr>\n",
              "    <tr>\n",
              "      <th>4</th>\n",
              "      <td>Osteomielitis</td>\n",
              "      <td>TRAUMATOLOGIA</td>\n",
              "    </tr>\n",
              "    <tr>\n",
              "      <th>5</th>\n",
              "      <td>No Especificado</td>\n",
              "      <td>GINECOLOGIA</td>\n",
              "    </tr>\n",
              "  </tbody>\n",
              "</table>\n",
              "</div>"
            ],
            "text/plain": [
              "     SOSPECHA_DIAG      PRESTA_EST\n",
              "0   Celulitis boca      ENDODONCIA\n",
              "1   Celulitis boca      ENDODONCIA\n",
              "2           Fisura  CIRUGIA ADULTO\n",
              "3    Periodontitis      ENDODONCIA\n",
              "4    Osteomielitis   TRAUMATOLOGIA\n",
              "5  No Especificado     GINECOLOGIA"
            ]
          },
          "metadata": {},
          "execution_count": 44
        }
      ]
    },
    {
      "cell_type": "code",
      "metadata": {
        "colab": {
          "base_uri": "https://localhost:8080/"
        },
        "id": "jwMh9u9VGX9Q",
        "outputId": "e8b13a7a-003a-4aaa-e3c9-0f3cfe6849b2"
      },
      "source": [
        "list(D10KOTRO[\"PRESTA_EST\"].unique())"
      ],
      "execution_count": null,
      "outputs": [
        {
          "output_type": "execute_result",
          "data": {
            "text/plain": [
              "['ENDODONCIA', 'CIRUGIA ADULTO', 'TRAUMATOLOGIA', 'GINECOLOGIA']"
            ]
          },
          "metadata": {},
          "execution_count": 45
        }
      ]
    },
    {
      "cell_type": "markdown",
      "metadata": {
        "id": "qlDLkZfqS9Ad"
      },
      "source": [
        "##Cálculo Paula en ejemplo"
      ]
    },
    {
      "cell_type": "code",
      "metadata": {
        "colab": {
          "base_uri": "https://localhost:8080/"
        },
        "id": "yMfZXCURTQuB",
        "outputId": "0299afe2-d42a-4202-ae96-4b1fa577d7d0"
      },
      "source": [
        "count_vectorizer = sklearn.feature_extraction.text.CountVectorizer() #Se podrían quitar las stopwords\n",
        "#term_doc_matrix_train = count_vectorizer.fit_transform(train.SOSPECHA_DIAG)\n",
        "term_doc_matrix_train = count_vectorizer.fit_transform(D10KOTRO.SOSPECHA_DIAG)\n",
        "term_doc_matrix_train"
      ],
      "execution_count": null,
      "outputs": [
        {
          "output_type": "execute_result",
          "data": {
            "text/plain": [
              "<6x7 sparse matrix of type '<class 'numpy.int64'>'\n",
              "\twith 9 stored elements in Compressed Sparse Row format>"
            ]
          },
          "metadata": {},
          "execution_count": 46
        }
      ]
    },
    {
      "cell_type": "code",
      "metadata": {
        "colab": {
          "base_uri": "https://localhost:8080/"
        },
        "id": "LktuksnbhuoT",
        "outputId": "369ea91f-bff0-4228-e87d-be6ed7e3c1f6"
      },
      "source": [
        "np.asarray(term_doc_matrix_train.todense()[D10KOTRO.PRESTA_EST == \"ENDODONCIA\",:].sum(0)).reshape(-1)"
      ],
      "execution_count": null,
      "outputs": [
        {
          "output_type": "execute_result",
          "data": {
            "text/plain": [
              "array([2, 2, 0, 0, 0, 0, 1])"
            ]
          },
          "metadata": {},
          "execution_count": 47
        }
      ]
    },
    {
      "cell_type": "code",
      "metadata": {
        "colab": {
          "base_uri": "https://localhost:8080/"
        },
        "id": "RrC9PW_gJVDa",
        "outputId": "980b6640-3590-444c-f648-62ef1f13a572"
      },
      "source": [
        "count_vectorizer.get_feature_names_out()"
      ],
      "execution_count": null,
      "outputs": [
        {
          "output_type": "execute_result",
          "data": {
            "text/plain": [
              "array(['boca', 'celulitis', 'especificado', 'fisura', 'no',\n",
              "       'osteomielitis', 'periodontitis'], dtype=object)"
            ]
          },
          "metadata": {},
          "execution_count": 63
        }
      ]
    },
    {
      "cell_type": "code",
      "metadata": {
        "colab": {
          "base_uri": "https://localhost:8080/"
        },
        "id": "ameOE2lZiR1X",
        "outputId": "5d366093-de14-45bb-d2ee-52f6c87a90dd"
      },
      "source": [
        "np.asarray(term_doc_matrix_train.todense()[D10KOTRO.PRESTA_EST == \"ENDODONCIA\",:].sum(0)).reshape(-1).sum()"
      ],
      "execution_count": null,
      "outputs": [
        {
          "output_type": "execute_result",
          "data": {
            "text/plain": [
              "5"
            ]
          },
          "metadata": {},
          "execution_count": 48
        }
      ]
    },
    {
      "cell_type": "code",
      "metadata": {
        "colab": {
          "base_uri": "https://localhost:8080/"
        },
        "id": "XQLWwAJhJiSa",
        "outputId": "7b472050-09d5-426c-9979-93d35db7fd03"
      },
      "source": [
        "count_c = (D10KOTRO.PRESTA_EST == \"ENDODONCIA\").sum()\n",
        "count_c "
      ],
      "execution_count": null,
      "outputs": [
        {
          "output_type": "execute_result",
          "data": {
            "text/plain": [
              "3"
            ]
          },
          "metadata": {},
          "execution_count": 70
        }
      ]
    },
    {
      "cell_type": "code",
      "metadata": {
        "colab": {
          "base_uri": "https://localhost:8080/"
        },
        "id": "9kD0K3lRTXa2",
        "outputId": "96f6adb5-4a1b-4310-fdd4-177b7f7d4a0c"
      },
      "source": [
        "import numpy as np\n",
        "\n",
        "p_word_category = {}\n",
        "#for category in rank_list:\n",
        "for category in list(D10KOTRO[\"PRESTA_EST\"].unique()):#El for lo cambie porque son menos clases  \n",
        "  #count_c = (train.PRESTA_EST == category).sum()\n",
        "  count_c = (D10KOTRO.PRESTA_EST == category).sum()#bueno cambie el train por el ejemplo\n",
        "  # Se obtienen las apariciones de cada una de las palabras en cada clase\n",
        "  #c_w = np.asarray(term_doc_matrix_train.todense()[train.PRESTA_EST == category,:].sum(0)).reshape(-1)\n",
        "  c_w = np.asarray(term_doc_matrix_train.todense()[D10KOTRO.PRESTA_EST == category,:].sum(0)).reshape(-1)#nuevamente camnbie el train por el ejemplo\n",
        "  # Se calcula la probabilidad\n",
        "  print(count_c)\n",
        "  p_w = (c_w+1) / count_c\n",
        "  p_word_category[category] = p_w\n",
        "p_word_category"
      ],
      "execution_count": null,
      "outputs": [
        {
          "output_type": "stream",
          "name": "stdout",
          "text": [
            "3\n",
            "1\n",
            "1\n",
            "1\n"
          ]
        },
        {
          "output_type": "execute_result",
          "data": {
            "text/plain": [
              "{'CIRUGIA ADULTO': array([1., 1., 1., 2., 1., 1., 1.]),\n",
              " 'ENDODONCIA': array([1.        , 1.        , 0.33333333, 0.33333333, 0.33333333,\n",
              "        0.33333333, 0.66666667]),\n",
              " 'GINECOLOGIA': array([1., 1., 2., 1., 2., 1., 1.]),\n",
              " 'TRAUMATOLOGIA': array([1., 1., 1., 1., 1., 2., 1.])}"
            ]
          },
          "metadata": {},
          "execution_count": 49
        }
      ]
    },
    {
      "cell_type": "markdown",
      "metadata": {
        "id": "WYcnYV5MT_eu"
      },
      "source": [
        "##Cálculo Mati en ejemplo (la probabilidad normal)"
      ]
    },
    {
      "cell_type": "code",
      "metadata": {
        "colab": {
          "base_uri": "https://localhost:8080/"
        },
        "id": "FJQ-yeucUEnO",
        "outputId": "d1d4771f-1bac-4aac-c505-bd889103bf89"
      },
      "source": [
        "count_vectorizer = sklearn.feature_extraction.text.CountVectorizer() #Se podrían quitar las stopwords\n",
        "#term_doc_matrix_train = count_vectorizer.fit_transform(train.SOSPECHA_DIAG)\n",
        "term_doc_matrix_train = count_vectorizer.fit_transform(D10KOTRO.SOSPECHA_DIAG)\n",
        "term_doc_matrix_train"
      ],
      "execution_count": null,
      "outputs": [
        {
          "output_type": "execute_result",
          "data": {
            "text/plain": [
              "<6x7 sparse matrix of type '<class 'numpy.int64'>'\n",
              "\twith 9 stored elements in Compressed Sparse Row format>"
            ]
          },
          "metadata": {},
          "execution_count": 50
        }
      ]
    },
    {
      "cell_type": "code",
      "metadata": {
        "colab": {
          "base_uri": "https://localhost:8080/"
        },
        "id": "-KdZbo3nUPXl",
        "outputId": "a076a2fd-bdff-4888-924d-7f04b92a8b2b"
      },
      "source": [
        "np.asarray(term_doc_matrix_train.todense()[D10KOTRO.PRESTA_EST == \"ENDODONCIA\",:].sum(0)).reshape(-1)"
      ],
      "execution_count": null,
      "outputs": [
        {
          "output_type": "execute_result",
          "data": {
            "text/plain": [
              "array([2, 2, 0, 0, 0, 0, 1])"
            ]
          },
          "metadata": {},
          "execution_count": 51
        }
      ]
    },
    {
      "cell_type": "code",
      "metadata": {
        "colab": {
          "base_uri": "https://localhost:8080/"
        },
        "id": "iRQ5MUBqUXBI",
        "outputId": "a89ecf4e-a8f1-4e14-f6c1-b4943dbd4926"
      },
      "source": [
        "np.asarray(term_doc_matrix_train.todense()[D10KOTRO.PRESTA_EST == \"ENDODONCIA\",:].sum(0)).reshape(-1).sum()"
      ],
      "execution_count": null,
      "outputs": [
        {
          "output_type": "execute_result",
          "data": {
            "text/plain": [
              "5"
            ]
          },
          "metadata": {},
          "execution_count": 52
        }
      ]
    },
    {
      "cell_type": "code",
      "metadata": {
        "colab": {
          "base_uri": "https://localhost:8080/"
        },
        "id": "cdQOPBlIeXrR",
        "outputId": "0338663e-5345-4e21-edf1-4eed8a9cae67"
      },
      "source": [
        "count_vectorizer.get_feature_names_out()"
      ],
      "execution_count": null,
      "outputs": [
        {
          "output_type": "execute_result",
          "data": {
            "text/plain": [
              "array(['boca', 'celulitis', 'especificado', 'fisura', 'no',\n",
              "       'osteomielitis', 'periodontitis'], dtype=object)"
            ]
          },
          "metadata": {},
          "execution_count": 53
        }
      ]
    },
    {
      "cell_type": "code",
      "metadata": {
        "colab": {
          "base_uri": "https://localhost:8080/"
        },
        "id": "CTdWE7nLUH0Z",
        "outputId": "e67a3575-384c-4874-ec44-7ed1e2086e50"
      },
      "source": [
        "import numpy as np\n",
        "\n",
        "p_word_category = {}\n",
        "#for category in rank_list:\n",
        "for category in list(D10KOTRO[\"PRESTA_EST\"].unique()):#El for lo cambie porque son menos clases  \n",
        "  #count_c = (train.PRESTA_EST == category).sum()\n",
        "  count_c = np.asarray(term_doc_matrix_train.todense()[D10KOTRO.PRESTA_EST == category,:].sum(0)).reshape(-1).sum()\n",
        "  # Se obtienen las apariciones de cada una de las palabras en cada clase\n",
        "  #c_w = np.asarray(term_doc_matrix_train.todense()[train.PRESTA_EST == category,:].sum(0)).reshape(-1)\n",
        "  c_w = np.asarray(term_doc_matrix_train.todense()[D10KOTRO.PRESTA_EST == category,:].sum(0)).reshape(-1)\n",
        "  # Se calcula la probabilidad\n",
        "  print(count_c)\n",
        "  p_w = (c_w) / count_c\n",
        "  p_word_category[category] = dict(zip(count_vectorizer.get_feature_names_out(), p_w))\n",
        "p_word_category"
      ],
      "execution_count": null,
      "outputs": [
        {
          "output_type": "stream",
          "name": "stdout",
          "text": [
            "5\n",
            "1\n",
            "1\n",
            "2\n"
          ]
        },
        {
          "output_type": "execute_result",
          "data": {
            "text/plain": [
              "{'CIRUGIA ADULTO': {'boca': 0.0,\n",
              "  'celulitis': 0.0,\n",
              "  'especificado': 0.0,\n",
              "  'fisura': 1.0,\n",
              "  'no': 0.0,\n",
              "  'osteomielitis': 0.0,\n",
              "  'periodontitis': 0.0},\n",
              " 'ENDODONCIA': {'boca': 0.4,\n",
              "  'celulitis': 0.4,\n",
              "  'especificado': 0.0,\n",
              "  'fisura': 0.0,\n",
              "  'no': 0.0,\n",
              "  'osteomielitis': 0.0,\n",
              "  'periodontitis': 0.2},\n",
              " 'GINECOLOGIA': {'boca': 0.0,\n",
              "  'celulitis': 0.0,\n",
              "  'especificado': 0.5,\n",
              "  'fisura': 0.0,\n",
              "  'no': 0.5,\n",
              "  'osteomielitis': 0.0,\n",
              "  'periodontitis': 0.0},\n",
              " 'TRAUMATOLOGIA': {'boca': 0.0,\n",
              "  'celulitis': 0.0,\n",
              "  'especificado': 0.0,\n",
              "  'fisura': 0.0,\n",
              "  'no': 0.0,\n",
              "  'osteomielitis': 1.0,\n",
              "  'periodontitis': 0.0}}"
            ]
          },
          "metadata": {},
          "execution_count": 54
        }
      ]
    },
    {
      "cell_type": "markdown",
      "metadata": {
        "id": "juY_wM3kcsnz"
      },
      "source": [
        "A parte del cálculo que te comente ayer, agregue las palabras junto con sus clases. No se si es mejor al revés."
      ]
    },
    {
      "cell_type": "code",
      "metadata": {
        "colab": {
          "base_uri": "https://localhost:8080/"
        },
        "id": "O9hlmcaVaqXG",
        "outputId": "a32c8bac-065f-4091-ac4e-7d1fa953a349"
      },
      "source": [
        "p_word_category['ENDODONCIA'][\"boca\"]"
      ],
      "execution_count": null,
      "outputs": [
        {
          "output_type": "execute_result",
          "data": {
            "text/plain": [
              "0.4"
            ]
          },
          "metadata": {},
          "execution_count": 55
        }
      ]
    },
    {
      "cell_type": "markdown",
      "metadata": {
        "id": "iG-RXuVjaqna"
      },
      "source": [
        "##Cálculo Mati en ejemplo (la probabilidad suavizada)"
      ]
    },
    {
      "cell_type": "code",
      "metadata": {
        "colab": {
          "base_uri": "https://localhost:8080/"
        },
        "id": "TDjwb7x8aqnb",
        "outputId": "e71aa015-1ff5-46c9-d0d4-e658b6805799"
      },
      "source": [
        "count_vectorizer = sklearn.feature_extraction.text.CountVectorizer() #Se podrían quitar las stopwords\n",
        "#term_doc_matrix_train = count_vectorizer.fit_transform(train.SOSPECHA_DIAG)\n",
        "term_doc_matrix_train = count_vectorizer.fit_transform(D10KOTRO.SOSPECHA_DIAG)\n",
        "term_doc_matrix_train"
      ],
      "execution_count": null,
      "outputs": [
        {
          "output_type": "execute_result",
          "data": {
            "text/plain": [
              "<6x7 sparse matrix of type '<class 'numpy.int64'>'\n",
              "\twith 9 stored elements in Compressed Sparse Row format>"
            ]
          },
          "metadata": {},
          "execution_count": 56
        }
      ]
    },
    {
      "cell_type": "code",
      "metadata": {
        "colab": {
          "base_uri": "https://localhost:8080/"
        },
        "id": "3rfsW5Oaaqnc",
        "outputId": "693fcea4-06ba-4ee0-b376-e73fe877b1a8"
      },
      "source": [
        "np.asarray(term_doc_matrix_train.todense()[D10KOTRO.PRESTA_EST == \"ENDODONCIA\",:].sum(0)).reshape(-1)"
      ],
      "execution_count": null,
      "outputs": [
        {
          "output_type": "execute_result",
          "data": {
            "text/plain": [
              "array([2, 2, 0, 0, 0, 0, 1])"
            ]
          },
          "metadata": {},
          "execution_count": 57
        }
      ]
    },
    {
      "cell_type": "code",
      "metadata": {
        "colab": {
          "base_uri": "https://localhost:8080/"
        },
        "id": "i8Bf_JeMaqnc",
        "outputId": "fdb79c1a-1bdc-4a3f-ff76-81123223006c"
      },
      "source": [
        "print(\"La sumatoria de palabras de la clase endocencia es \",np.asarray(term_doc_matrix_train.todense()[D10KOTRO.PRESTA_EST == \"ENDODONCIA\",:].sum(0)).reshape(-1).sum())"
      ],
      "execution_count": null,
      "outputs": [
        {
          "output_type": "stream",
          "name": "stdout",
          "text": [
            "La sumatoria de palabras de la clase endocencia es  5\n"
          ]
        }
      ]
    },
    {
      "cell_type": "code",
      "metadata": {
        "colab": {
          "base_uri": "https://localhost:8080/"
        },
        "id": "srohqrTObZd8",
        "outputId": "12e0b171-0f30-4402-e868-34da159245b8"
      },
      "source": [
        "count_vectorizer.get_feature_names_out()"
      ],
      "execution_count": null,
      "outputs": [
        {
          "output_type": "execute_result",
          "data": {
            "text/plain": [
              "array(['boca', 'celulitis', 'especificado', 'fisura', 'no',\n",
              "       'osteomielitis', 'periodontitis'], dtype=object)"
            ]
          },
          "metadata": {},
          "execution_count": 59
        }
      ]
    },
    {
      "cell_type": "code",
      "metadata": {
        "colab": {
          "base_uri": "https://localhost:8080/"
        },
        "id": "Zs2QJTpDec_x",
        "outputId": "c50744ae-1da3-4ec0-e201-abb3e7cb0855"
      },
      "source": [
        "print(\"V es\",len(np.asarray(term_doc_matrix_train.todense()[D10KOTRO.PRESTA_EST == category,:].sum(0)).reshape(-1)))"
      ],
      "execution_count": null,
      "outputs": [
        {
          "output_type": "stream",
          "name": "stdout",
          "text": [
            "V es 7\n"
          ]
        }
      ]
    },
    {
      "cell_type": "code",
      "metadata": {
        "colab": {
          "base_uri": "https://localhost:8080/"
        },
        "id": "R4pTKyTNaqnc",
        "outputId": "629b08a8-ba12-4352-b27e-7c8079607d5b"
      },
      "source": [
        "import numpy as np\n",
        "\n",
        "p_word_category = {}\n",
        "#for category in rank_list:\n",
        "for category in list(D10KOTRO[\"PRESTA_EST\"].unique()):#El for lo cambie porque son menos clases  \n",
        "  #count_c = (train.PRESTA_EST == category).sum()\n",
        "  count_c = np.asarray(term_doc_matrix_train.todense()[D10KOTRO.PRESTA_EST == category,:].sum(0)).reshape(-1).sum()\n",
        "  V=len(np.asarray(term_doc_matrix_train.todense()[D10KOTRO.PRESTA_EST == category,:].sum(0)).reshape(-1))\n",
        "  # Se obtienen las apariciones de cada una de las palabras en cada clase\n",
        "  #c_w = np.asarray(term_doc_matrix_train.todense()[train.PRESTA_EST == category,:].sum(0)).reshape(-1)\n",
        "  c_w = np.asarray(term_doc_matrix_train.todense()[D10KOTRO.PRESTA_EST == category,:].sum(0)).reshape(-1)\n",
        "  # Se calcula la probabilidad\n",
        "  print(count_c)\n",
        "  p_w = (c_w+1) / (count_c+V)\n",
        "  p_word_category[category] = dict(zip(count_vectorizer.get_feature_names_out(), p_w))\n",
        "p_word_category"
      ],
      "execution_count": null,
      "outputs": [
        {
          "output_type": "stream",
          "name": "stdout",
          "text": [
            "5\n",
            "1\n",
            "1\n",
            "2\n"
          ]
        },
        {
          "output_type": "execute_result",
          "data": {
            "text/plain": [
              "{'CIRUGIA ADULTO': {'boca': 0.125,\n",
              "  'celulitis': 0.125,\n",
              "  'especificado': 0.125,\n",
              "  'fisura': 0.25,\n",
              "  'no': 0.125,\n",
              "  'osteomielitis': 0.125,\n",
              "  'periodontitis': 0.125},\n",
              " 'ENDODONCIA': {'boca': 0.25,\n",
              "  'celulitis': 0.25,\n",
              "  'especificado': 0.08333333333333333,\n",
              "  'fisura': 0.08333333333333333,\n",
              "  'no': 0.08333333333333333,\n",
              "  'osteomielitis': 0.08333333333333333,\n",
              "  'periodontitis': 0.16666666666666666},\n",
              " 'GINECOLOGIA': {'boca': 0.1111111111111111,\n",
              "  'celulitis': 0.1111111111111111,\n",
              "  'especificado': 0.2222222222222222,\n",
              "  'fisura': 0.1111111111111111,\n",
              "  'no': 0.2222222222222222,\n",
              "  'osteomielitis': 0.1111111111111111,\n",
              "  'periodontitis': 0.1111111111111111},\n",
              " 'TRAUMATOLOGIA': {'boca': 0.125,\n",
              "  'celulitis': 0.125,\n",
              "  'especificado': 0.125,\n",
              "  'fisura': 0.125,\n",
              "  'no': 0.125,\n",
              "  'osteomielitis': 0.25,\n",
              "  'periodontitis': 0.125}}"
            ]
          },
          "metadata": {},
          "execution_count": 61
        }
      ]
    },
    {
      "cell_type": "markdown",
      "metadata": {
        "id": "z-kWD_5LdKye"
      },
      "source": [
        "A parte del cálculo que te comente ayer, agregue las palabras junto con sus clases. No se si es mejor al revés."
      ]
    },
    {
      "cell_type": "code",
      "metadata": {
        "colab": {
          "base_uri": "https://localhost:8080/"
        },
        "id": "qzHOvhl1dKye",
        "outputId": "0b31baf2-4626-4875-ae59-9777061e7d95"
      },
      "source": [
        "p_word_category['ENDODONCIA'][\"boca\"]"
      ],
      "execution_count": null,
      "outputs": [
        {
          "output_type": "execute_result",
          "data": {
            "text/plain": [
              "0.25"
            ]
          },
          "metadata": {},
          "execution_count": 62
        }
      ]
    }
  ]
}