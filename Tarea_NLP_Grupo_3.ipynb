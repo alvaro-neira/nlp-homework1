{
  "nbformat": 4,
  "nbformat_minor": 0,
  "metadata": {
    "colab": {
      "name": "Tarea NLP Grupo 3.ipynb",
      "provenance": []
    },
    "kernelspec": {
      "name": "python3",
      "display_name": "Python 3"
    },
    "language_info": {
      "name": "python"
    }
  },
  "cells": [
    {
      "cell_type": "markdown",
      "metadata": {
        "id": "BQqLxqHQq-GN"
      },
      "source": [
        "# Introducción"
      ]
    },
    {
      "cell_type": "markdown",
      "metadata": {
        "id": "H83KqYty7Isi"
      },
      "source": [
        "Estas son las bibliotecas y módulos necesarios."
      ]
    },
    {
      "cell_type": "code",
      "metadata": {
        "id": "21BbHj_N7G0D"
      },
      "source": [
        "import pandas as pd\n",
        "import re\n",
        "\n",
        "import spacy\n",
        "import nltk\n",
        "import sklearn\n",
        "import wordcloud\n",
        "import matplotlib.pyplot as plt\n",
        "import pandas as pd"
      ],
      "execution_count": null,
      "outputs": []
    },
    {
      "cell_type": "markdown",
      "metadata": {
        "id": "Lexwob8PrGvc"
      },
      "source": [
        "Descargamos los datos necesarios para las actividades"
      ]
    },
    {
      "cell_type": "code",
      "metadata": {
        "id": "hF7EbQTkqeBU",
        "colab": {
          "base_uri": "https://localhost:8080/"
        },
        "outputId": "fcdbcc0f-f714-4f54-ab39-a7ee2770e359"
      },
      "source": [
        "!wget https://raw.githubusercontent.com/fvillena/dcc-ia-nlp/master/data/aysen.csv\n",
        "!wget https://raw.githubusercontent.com/fvillena/dcc-ia-nlp/master/data/aysen_corto.csv\n",
        "!wget https://raw.githubusercontent.com/fvillena/dcc-ia-nlp/master/data/proveedoresA.txt\n",
        "!wget https://raw.githubusercontent.com/fvillena/dcc-ia-nlp/master/data/other_vhosts_access.log\n",
        "nltk.download('stopwords')\n",
        "nltk.download('wordnet') \n",
        "!python -m spacy download es_core_news_sm\n",
        "import es_core_news_sm\n",
        "nlp_es = es_core_news_sm.load()"
      ],
      "execution_count": null,
      "outputs": [
        {
          "output_type": "stream",
          "name": "stdout",
          "text": [
            "--2021-11-30 22:53:18--  https://raw.githubusercontent.com/fvillena/dcc-ia-nlp/master/data/aysen.csv\n",
            "Resolving raw.githubusercontent.com (raw.githubusercontent.com)... 185.199.108.133, 185.199.109.133, 185.199.110.133, ...\n",
            "Connecting to raw.githubusercontent.com (raw.githubusercontent.com)|185.199.108.133|:443... connected.\n",
            "HTTP request sent, awaiting response... 200 OK\n",
            "Length: 29482924 (28M) [text/plain]\n",
            "Saving to: ‘aysen.csv.3’\n",
            "\n",
            "\raysen.csv.3           0%[                    ]       0  --.-KB/s               \raysen.csv.3         100%[===================>]  28.12M  --.-KB/s    in 0.1s    \n",
            "\n",
            "2021-11-30 22:53:18 (203 MB/s) - ‘aysen.csv.3’ saved [29482924/29482924]\n",
            "\n",
            "--2021-11-30 22:53:18--  https://raw.githubusercontent.com/fvillena/dcc-ia-nlp/master/data/aysen_corto.csv\n",
            "Resolving raw.githubusercontent.com (raw.githubusercontent.com)... 185.199.108.133, 185.199.109.133, 185.199.110.133, ...\n",
            "Connecting to raw.githubusercontent.com (raw.githubusercontent.com)|185.199.108.133|:443... connected.\n",
            "HTTP request sent, awaiting response... 200 OK\n",
            "Length: 4501 (4.4K) [text/plain]\n",
            "Saving to: ‘aysen_corto.csv.3’\n",
            "\n",
            "aysen_corto.csv.3   100%[===================>]   4.40K  --.-KB/s    in 0s      \n",
            "\n",
            "2021-11-30 22:53:18 (59.0 MB/s) - ‘aysen_corto.csv.3’ saved [4501/4501]\n",
            "\n",
            "--2021-11-30 22:53:19--  https://raw.githubusercontent.com/fvillena/dcc-ia-nlp/master/data/proveedoresA.txt\n",
            "Resolving raw.githubusercontent.com (raw.githubusercontent.com)... 185.199.108.133, 185.199.109.133, 185.199.110.133, ...\n",
            "Connecting to raw.githubusercontent.com (raw.githubusercontent.com)|185.199.108.133|:443... connected.\n",
            "HTTP request sent, awaiting response... 200 OK\n",
            "Length: 5946 (5.8K) [text/plain]\n",
            "Saving to: ‘proveedoresA.txt.3’\n",
            "\n",
            "proveedoresA.txt.3  100%[===================>]   5.81K  --.-KB/s    in 0s      \n",
            "\n",
            "2021-11-30 22:53:19 (65.2 MB/s) - ‘proveedoresA.txt.3’ saved [5946/5946]\n",
            "\n",
            "--2021-11-30 22:53:19--  https://raw.githubusercontent.com/fvillena/dcc-ia-nlp/master/data/other_vhosts_access.log\n",
            "Resolving raw.githubusercontent.com (raw.githubusercontent.com)... 185.199.108.133, 185.199.109.133, 185.199.110.133, ...\n",
            "Connecting to raw.githubusercontent.com (raw.githubusercontent.com)|185.199.108.133|:443... connected.\n",
            "HTTP request sent, awaiting response... 200 OK\n",
            "Length: 6032 (5.9K) [text/plain]\n",
            "Saving to: ‘other_vhosts_access.log.3’\n",
            "\n",
            "other_vhosts_access 100%[===================>]   5.89K  --.-KB/s    in 0s      \n",
            "\n",
            "2021-11-30 22:53:19 (79.7 MB/s) - ‘other_vhosts_access.log.3’ saved [6032/6032]\n",
            "\n",
            "[nltk_data] Downloading package stopwords to /root/nltk_data...\n",
            "[nltk_data]   Package stopwords is already up-to-date!\n",
            "[nltk_data] Downloading package wordnet to /root/nltk_data...\n",
            "[nltk_data]   Package wordnet is already up-to-date!\n",
            "Collecting es_core_news_sm==2.2.5\n",
            "  Downloading https://github.com/explosion/spacy-models/releases/download/es_core_news_sm-2.2.5/es_core_news_sm-2.2.5.tar.gz (16.2 MB)\n",
            "\u001b[K     |████████████████████████████████| 16.2 MB 32.9 MB/s \n",
            "\u001b[?25hRequirement already satisfied: spacy>=2.2.2 in /usr/local/lib/python3.7/dist-packages (from es_core_news_sm==2.2.5) (2.2.4)\n",
            "Requirement already satisfied: cymem<2.1.0,>=2.0.2 in /usr/local/lib/python3.7/dist-packages (from spacy>=2.2.2->es_core_news_sm==2.2.5) (2.0.6)\n",
            "Requirement already satisfied: murmurhash<1.1.0,>=0.28.0 in /usr/local/lib/python3.7/dist-packages (from spacy>=2.2.2->es_core_news_sm==2.2.5) (1.0.6)\n",
            "Requirement already satisfied: catalogue<1.1.0,>=0.0.7 in /usr/local/lib/python3.7/dist-packages (from spacy>=2.2.2->es_core_news_sm==2.2.5) (1.0.0)\n",
            "Requirement already satisfied: numpy>=1.15.0 in /usr/local/lib/python3.7/dist-packages (from spacy>=2.2.2->es_core_news_sm==2.2.5) (1.19.5)\n",
            "Requirement already satisfied: tqdm<5.0.0,>=4.38.0 in /usr/local/lib/python3.7/dist-packages (from spacy>=2.2.2->es_core_news_sm==2.2.5) (4.62.3)\n",
            "Requirement already satisfied: requests<3.0.0,>=2.13.0 in /usr/local/lib/python3.7/dist-packages (from spacy>=2.2.2->es_core_news_sm==2.2.5) (2.23.0)\n",
            "Requirement already satisfied: thinc==7.4.0 in /usr/local/lib/python3.7/dist-packages (from spacy>=2.2.2->es_core_news_sm==2.2.5) (7.4.0)\n",
            "Requirement already satisfied: preshed<3.1.0,>=3.0.2 in /usr/local/lib/python3.7/dist-packages (from spacy>=2.2.2->es_core_news_sm==2.2.5) (3.0.6)\n",
            "Requirement already satisfied: srsly<1.1.0,>=1.0.2 in /usr/local/lib/python3.7/dist-packages (from spacy>=2.2.2->es_core_news_sm==2.2.5) (1.0.5)\n",
            "Requirement already satisfied: wasabi<1.1.0,>=0.4.0 in /usr/local/lib/python3.7/dist-packages (from spacy>=2.2.2->es_core_news_sm==2.2.5) (0.8.2)\n",
            "Requirement already satisfied: blis<0.5.0,>=0.4.0 in /usr/local/lib/python3.7/dist-packages (from spacy>=2.2.2->es_core_news_sm==2.2.5) (0.4.1)\n",
            "Requirement already satisfied: plac<1.2.0,>=0.9.6 in /usr/local/lib/python3.7/dist-packages (from spacy>=2.2.2->es_core_news_sm==2.2.5) (1.1.3)\n",
            "Requirement already satisfied: setuptools in /usr/local/lib/python3.7/dist-packages (from spacy>=2.2.2->es_core_news_sm==2.2.5) (57.4.0)\n",
            "Requirement already satisfied: importlib-metadata>=0.20 in /usr/local/lib/python3.7/dist-packages (from catalogue<1.1.0,>=0.0.7->spacy>=2.2.2->es_core_news_sm==2.2.5) (4.8.2)\n",
            "Requirement already satisfied: typing-extensions>=3.6.4 in /usr/local/lib/python3.7/dist-packages (from importlib-metadata>=0.20->catalogue<1.1.0,>=0.0.7->spacy>=2.2.2->es_core_news_sm==2.2.5) (3.10.0.2)\n",
            "Requirement already satisfied: zipp>=0.5 in /usr/local/lib/python3.7/dist-packages (from importlib-metadata>=0.20->catalogue<1.1.0,>=0.0.7->spacy>=2.2.2->es_core_news_sm==2.2.5) (3.6.0)\n",
            "Requirement already satisfied: chardet<4,>=3.0.2 in /usr/local/lib/python3.7/dist-packages (from requests<3.0.0,>=2.13.0->spacy>=2.2.2->es_core_news_sm==2.2.5) (3.0.4)\n",
            "Requirement already satisfied: certifi>=2017.4.17 in /usr/local/lib/python3.7/dist-packages (from requests<3.0.0,>=2.13.0->spacy>=2.2.2->es_core_news_sm==2.2.5) (2021.10.8)\n",
            "Requirement already satisfied: idna<3,>=2.5 in /usr/local/lib/python3.7/dist-packages (from requests<3.0.0,>=2.13.0->spacy>=2.2.2->es_core_news_sm==2.2.5) (2.10)\n",
            "Requirement already satisfied: urllib3!=1.25.0,!=1.25.1,<1.26,>=1.21.1 in /usr/local/lib/python3.7/dist-packages (from requests<3.0.0,>=2.13.0->spacy>=2.2.2->es_core_news_sm==2.2.5) (1.24.3)\n",
            "\u001b[38;5;2m✔ Download and installation successful\u001b[0m\n",
            "You can now load the model via spacy.load('es_core_news_sm')\n"
          ]
        }
      ]
    },
    {
      "cell_type": "markdown",
      "metadata": {
        "id": "EDDUUTUtrN3E"
      },
      "source": [
        "## Actividad 1: Lectura y parsing\n",
        "\n",
        "1.   Utilizando la biblioteca Pandas, cargue el archivo `aysen_corto.csv` como un dataframe (revise los tipos de datos, cabecera y separador)\n",
        "2.   Mantenga solo las columnas `sexo`, `comuna`, y `prestación`.\n",
        "3.   Realice un conteo de los valores en de las columnas `sexo` y `comuna` y preséntelos en un gráfico.\n",
        "\n"
      ]
    },
    {
      "cell_type": "code",
      "metadata": {
        "id": "YHVlNzZUsJZH"
      },
      "source": [
        "# HINTS:\n",
        "# https://pandas.pydata.org/docs/reference/api/pandas.read_csv.html\n",
        "# https://pandas.pydata.org/docs/reference/api/pandas.DataFrame.plot.html\n",
        "\n",
        "# Prográmame"
      ],
      "execution_count": null,
      "outputs": []
    },
    {
      "cell_type": "code",
      "metadata": {
        "id": "5lyv2yDdu-GX",
        "colab": {
          "base_uri": "https://localhost:8080/"
        },
        "outputId": "3ff6eedf-54b6-40e8-8ab3-ead5e48ff1ab"
      },
      "source": [
        "aysen = pd.read_csv(\"aysen.csv\", sep=\";\", na_values=[\"Otro\",\"\"])"
      ],
      "execution_count": null,
      "outputs": [
        {
          "output_type": "stream",
          "name": "stderr",
          "text": [
            "/usr/local/lib/python3.7/dist-packages/IPython/core/interactiveshell.py:2718: DtypeWarning: Columns (0) have mixed types.Specify dtype option on import or set low_memory=False.\n",
            "  interactivity=interactivity, compiler=compiler, result=result)\n"
          ]
        }
      ]
    },
    {
      "cell_type": "code",
      "metadata": {
        "id": "E-dECYuavHu1",
        "colab": {
          "base_uri": "https://localhost:8080/",
          "height": 434
        },
        "outputId": "bfbac805-b2ba-463b-d9a8-2d1c03229c43"
      },
      "source": [
        "aysen.head()"
      ],
      "execution_count": null,
      "outputs": [
        {
          "output_type": "execute_result",
          "data": {
            "text/html": [
              "<div>\n",
              "<style scoped>\n",
              "    .dataframe tbody tr th:only-of-type {\n",
              "        vertical-align: middle;\n",
              "    }\n",
              "\n",
              "    .dataframe tbody tr th {\n",
              "        vertical-align: top;\n",
              "    }\n",
              "\n",
              "    .dataframe thead th {\n",
              "        text-align: right;\n",
              "    }\n",
              "</style>\n",
              "<table border=\"1\" class=\"dataframe\">\n",
              "  <thead>\n",
              "    <tr style=\"text-align: right;\">\n",
              "      <th></th>\n",
              "      <th>FECHA_NAC</th>\n",
              "      <th>SEXO</th>\n",
              "      <th>PRESTA_MIN</th>\n",
              "      <th>PLANO</th>\n",
              "      <th>EXTREMIDAD</th>\n",
              "      <th>PRESTA_EST</th>\n",
              "      <th>F_ENTRADA</th>\n",
              "      <th>ESTAB_ORIG</th>\n",
              "      <th>ESTAB_DEST</th>\n",
              "      <th>F_SALIDA</th>\n",
              "      <th>C_SALIDA</th>\n",
              "      <th>E_OTOR_AT</th>\n",
              "      <th>PRESTA_MIN_SALIDA</th>\n",
              "      <th>REGION</th>\n",
              "      <th>COMUNA</th>\n",
              "      <th>SOSPECHA_DIAG</th>\n",
              "    </tr>\n",
              "  </thead>\n",
              "  <tbody>\n",
              "    <tr>\n",
              "      <th>0</th>\n",
              "      <td>1985</td>\n",
              "      <td>2</td>\n",
              "      <td>09-001-0</td>\n",
              "      <td>NaN</td>\n",
              "      <td>NaN</td>\n",
              "      <td>ENDODONCIA</td>\n",
              "      <td>31-12-17</td>\n",
              "      <td>25-301</td>\n",
              "      <td>25-100</td>\n",
              "      <td>NaN</td>\n",
              "      <td>NaN</td>\n",
              "      <td>NaN</td>\n",
              "      <td>NaN</td>\n",
              "      <td>11</td>\n",
              "      <td>11101</td>\n",
              "      <td>Celulitis y absceso de boca</td>\n",
              "    </tr>\n",
              "    <tr>\n",
              "      <th>1</th>\n",
              "      <td>1946</td>\n",
              "      <td>1</td>\n",
              "      <td>09-004-0</td>\n",
              "      <td>NaN</td>\n",
              "      <td>NaN</td>\n",
              "      <td>PERIODONCIA</td>\n",
              "      <td>31-12-17</td>\n",
              "      <td>25-301</td>\n",
              "      <td>25-100</td>\n",
              "      <td>NaN</td>\n",
              "      <td>NaN</td>\n",
              "      <td>NaN</td>\n",
              "      <td>NaN</td>\n",
              "      <td>11</td>\n",
              "      <td>11101</td>\n",
              "      <td>Periodontitis cronica</td>\n",
              "    </tr>\n",
              "    <tr>\n",
              "      <th>2</th>\n",
              "      <td>1937</td>\n",
              "      <td>2</td>\n",
              "      <td>09-006-0</td>\n",
              "      <td>NaN</td>\n",
              "      <td>NaN</td>\n",
              "      <td>REHABILITACION: PROTESIS REMOVIBLE</td>\n",
              "      <td>31-12-17</td>\n",
              "      <td>25-301</td>\n",
              "      <td>25-100</td>\n",
              "      <td>2018-01-03 00:00:00</td>\n",
              "      <td>1.0</td>\n",
              "      <td>25-100</td>\n",
              "      <td>09-006-0</td>\n",
              "      <td>11</td>\n",
              "      <td>11101</td>\n",
              "      <td>Otras afecciones especificadas de los dientes ...</td>\n",
              "    </tr>\n",
              "    <tr>\n",
              "      <th>3</th>\n",
              "      <td>1955</td>\n",
              "      <td>2</td>\n",
              "      <td>07-208-0</td>\n",
              "      <td>NaN</td>\n",
              "      <td>NaN</td>\n",
              "      <td>NEUROCIRUGIA</td>\n",
              "      <td>30-12-17</td>\n",
              "      <td>25-300</td>\n",
              "      <td>25-100</td>\n",
              "      <td>NaN</td>\n",
              "      <td>NaN</td>\n",
              "      <td>NaN</td>\n",
              "      <td>NaN</td>\n",
              "      <td>11</td>\n",
              "      <td>11101</td>\n",
              "      <td>Trastornos de disco lumbar y otros, con radicu...</td>\n",
              "    </tr>\n",
              "    <tr>\n",
              "      <th>4</th>\n",
              "      <td>1997</td>\n",
              "      <td>2</td>\n",
              "      <td>09-001-0</td>\n",
              "      <td>NaN</td>\n",
              "      <td>NaN</td>\n",
              "      <td>ENDODONCIA</td>\n",
              "      <td>30-12-17</td>\n",
              "      <td>25-301</td>\n",
              "      <td>25-100</td>\n",
              "      <td>NaN</td>\n",
              "      <td>NaN</td>\n",
              "      <td>NaN</td>\n",
              "      <td>NaN</td>\n",
              "      <td>11</td>\n",
              "      <td>11101</td>\n",
              "      <td>Celulitis y absceso de boca</td>\n",
              "    </tr>\n",
              "  </tbody>\n",
              "</table>\n",
              "</div>"
            ],
            "text/plain": [
              "  FECHA_NAC  SEXO  ... COMUNA                                      SOSPECHA_DIAG\n",
              "0      1985     2  ...  11101                        Celulitis y absceso de boca\n",
              "1      1946     1  ...  11101                              Periodontitis cronica\n",
              "2      1937     2  ...  11101  Otras afecciones especificadas de los dientes ...\n",
              "3      1955     2  ...  11101  Trastornos de disco lumbar y otros, con radicu...\n",
              "4      1997     2  ...  11101                        Celulitis y absceso de boca\n",
              "\n",
              "[5 rows x 16 columns]"
            ]
          },
          "metadata": {},
          "execution_count": 5
        }
      ]
    },
    {
      "cell_type": "code",
      "metadata": {
        "id": "F2VcHGbyvOFK"
      },
      "source": [
        "aysen_subset = aysen[[\"SOSPECHA_DIAG\",\"PRESTA_EST\"]]"
      ],
      "execution_count": null,
      "outputs": []
    },
    {
      "cell_type": "code",
      "metadata": {
        "id": "szU2UnG5vbjG",
        "colab": {
          "base_uri": "https://localhost:8080/",
          "height": 206
        },
        "outputId": "d2947a62-e757-430d-d08e-c5cb9bdc54cc"
      },
      "source": [
        "aysen_subset.head()"
      ],
      "execution_count": null,
      "outputs": [
        {
          "output_type": "execute_result",
          "data": {
            "text/html": [
              "<div>\n",
              "<style scoped>\n",
              "    .dataframe tbody tr th:only-of-type {\n",
              "        vertical-align: middle;\n",
              "    }\n",
              "\n",
              "    .dataframe tbody tr th {\n",
              "        vertical-align: top;\n",
              "    }\n",
              "\n",
              "    .dataframe thead th {\n",
              "        text-align: right;\n",
              "    }\n",
              "</style>\n",
              "<table border=\"1\" class=\"dataframe\">\n",
              "  <thead>\n",
              "    <tr style=\"text-align: right;\">\n",
              "      <th></th>\n",
              "      <th>SOSPECHA_DIAG</th>\n",
              "      <th>PRESTA_EST</th>\n",
              "    </tr>\n",
              "  </thead>\n",
              "  <tbody>\n",
              "    <tr>\n",
              "      <th>0</th>\n",
              "      <td>Celulitis y absceso de boca</td>\n",
              "      <td>ENDODONCIA</td>\n",
              "    </tr>\n",
              "    <tr>\n",
              "      <th>1</th>\n",
              "      <td>Periodontitis cronica</td>\n",
              "      <td>PERIODONCIA</td>\n",
              "    </tr>\n",
              "    <tr>\n",
              "      <th>2</th>\n",
              "      <td>Otras afecciones especificadas de los dientes ...</td>\n",
              "      <td>REHABILITACION: PROTESIS REMOVIBLE</td>\n",
              "    </tr>\n",
              "    <tr>\n",
              "      <th>3</th>\n",
              "      <td>Trastornos de disco lumbar y otros, con radicu...</td>\n",
              "      <td>NEUROCIRUGIA</td>\n",
              "    </tr>\n",
              "    <tr>\n",
              "      <th>4</th>\n",
              "      <td>Celulitis y absceso de boca</td>\n",
              "      <td>ENDODONCIA</td>\n",
              "    </tr>\n",
              "  </tbody>\n",
              "</table>\n",
              "</div>"
            ],
            "text/plain": [
              "                                       SOSPECHA_DIAG                          PRESTA_EST\n",
              "0                        Celulitis y absceso de boca                          ENDODONCIA\n",
              "1                              Periodontitis cronica                         PERIODONCIA\n",
              "2  Otras afecciones especificadas de los dientes ...  REHABILITACION: PROTESIS REMOVIBLE\n",
              "3  Trastornos de disco lumbar y otros, con radicu...                        NEUROCIRUGIA\n",
              "4                        Celulitis y absceso de boca                          ENDODONCIA"
            ]
          },
          "metadata": {},
          "execution_count": 7
        }
      ]
    },
    {
      "cell_type": "code",
      "metadata": {
        "id": "Og2fC1XgveSF",
        "colab": {
          "base_uri": "https://localhost:8080/",
          "height": 265
        },
        "outputId": "b6e0eb2e-662e-4728-b644-7b817dd7f9b3"
      },
      "source": [
        "aysen_subset.PRESTA_EST.value_counts(dropna=False).plot.pie()"
      ],
      "execution_count": null,
      "outputs": [
        {
          "output_type": "execute_result",
          "data": {
            "text/plain": [
              "<matplotlib.axes._subplots.AxesSubplot at 0x7f1bdc6765d0>"
            ]
          },
          "metadata": {},
          "execution_count": 8
        },
        {
          "output_type": "display_data",
          "data": {
            "image/png": "[encoded data removed]",
            "text/plain": [
              "<Figure size 432x288 with 1 Axes>"
            ]
          },
          "metadata": {}
        }
      ]
    },
    {
      "cell_type": "code",
      "metadata": {
        "colab": {
          "base_uri": "https://localhost:8080/",
          "height": 300
        },
        "id": "vFjnHRr53n_0",
        "outputId": "c0368da2-5153-4581-ea81-9b5cbe0ffaa3"
      },
      "source": [
        "D10K=pd.DataFrame(aysen_subset.PRESTA_EST.value_counts(dropna=False))\n",
        "D10K=D10K.loc[D10K[\"PRESTA_EST\"]>10000]\n",
        "D10K\n"
      ],
      "execution_count": null,
      "outputs": [
        {
          "output_type": "execute_result",
          "data": {
            "text/html": [
              "<div>\n",
              "<style scoped>\n",
              "    .dataframe tbody tr th:only-of-type {\n",
              "        vertical-align: middle;\n",
              "    }\n",
              "\n",
              "    .dataframe tbody tr th {\n",
              "        vertical-align: top;\n",
              "    }\n",
              "\n",
              "    .dataframe thead th {\n",
              "        text-align: right;\n",
              "    }\n",
              "</style>\n",
              "<table border=\"1\" class=\"dataframe\">\n",
              "  <thead>\n",
              "    <tr style=\"text-align: right;\">\n",
              "      <th></th>\n",
              "      <th>PRESTA_EST</th>\n",
              "    </tr>\n",
              "  </thead>\n",
              "  <tbody>\n",
              "    <tr>\n",
              "      <th>TRAUMATOLOGIA</th>\n",
              "      <td>24004</td>\n",
              "    </tr>\n",
              "    <tr>\n",
              "      <th>OFTALMOLOGIA</th>\n",
              "      <td>21482</td>\n",
              "    </tr>\n",
              "    <tr>\n",
              "      <th>CIRUGIA ADULTO</th>\n",
              "      <td>17321</td>\n",
              "    </tr>\n",
              "    <tr>\n",
              "      <th>OTORRINOLARINGOLOGIA</th>\n",
              "      <td>13663</td>\n",
              "    </tr>\n",
              "    <tr>\n",
              "      <th>NEUROLOGIA</th>\n",
              "      <td>12316</td>\n",
              "    </tr>\n",
              "    <tr>\n",
              "      <th>MEDICINA INTERNA</th>\n",
              "      <td>11408</td>\n",
              "    </tr>\n",
              "    <tr>\n",
              "      <th>GINECOLOGIA</th>\n",
              "      <td>10871</td>\n",
              "    </tr>\n",
              "    <tr>\n",
              "      <th>ENDODONCIA</th>\n",
              "      <td>10225</td>\n",
              "    </tr>\n",
              "  </tbody>\n",
              "</table>\n",
              "</div>"
            ],
            "text/plain": [
              "                      PRESTA_EST\n",
              "TRAUMATOLOGIA              24004\n",
              "OFTALMOLOGIA               21482\n",
              "CIRUGIA ADULTO             17321\n",
              "OTORRINOLARINGOLOGIA       13663\n",
              "NEUROLOGIA                 12316\n",
              "MEDICINA INTERNA           11408\n",
              "GINECOLOGIA                10871\n",
              "ENDODONCIA                 10225"
            ]
          },
          "metadata": {},
          "execution_count": 11
        }
      ]
    },
    {
      "cell_type": "code",
      "metadata": {
        "colab": {
          "base_uri": "https://localhost:8080/"
        },
        "id": "HR4VS75Q68Dk",
        "outputId": "c7c2582c-dc03-4ce5-9853-eeb8e56ffa3e"
      },
      "source": [
        "list(D10K.index)"
      ],
      "execution_count": null,
      "outputs": [
        {
          "output_type": "execute_result",
          "data": {
            "text/plain": [
              "['TRAUMATOLOGIA',\n",
              " 'OFTALMOLOGIA',\n",
              " 'CIRUGIA ADULTO',\n",
              " 'OTORRINOLARINGOLOGIA',\n",
              " 'NEUROLOGIA',\n",
              " 'MEDICINA INTERNA',\n",
              " 'GINECOLOGIA',\n",
              " 'ENDODONCIA']"
            ]
          },
          "metadata": {},
          "execution_count": 12
        }
      ]
    },
    {
      "cell_type": "code",
      "metadata": {
        "id": "gzkAHCj36n3U"
      },
      "source": [
        "\n",
        "z1=0\n",
        "z2=0\n",
        "presta=[]\n",
        "sospecha=[]\n",
        "for u in aysen[\"PRESTA_EST\"]:\n",
        "  for v in list(D10K.index):\n",
        "    if u==v:\n",
        "      #print(u)\n",
        "      presta.append(u)\n",
        "      sospecha.append(aysen[\"SOSPECHA_DIAG\"].iloc[z1])\n",
        "    z2=z2+1 \n",
        "  z1=z1+1"
      ],
      "execution_count": null,
      "outputs": []
    },
    {
      "cell_type": "code",
      "metadata": {
        "id": "CNLkPPnK8Dnw"
      },
      "source": [
        "aysen_nuevo=pd.concat([pd.DataFrame(sospecha).rename(columns={0:\"SOSPECHA_DIAG\"}),pd.DataFrame(presta).rename(columns={0:\"PRESTA_EST\"})],axis=1)\n",
        "aysen_nuevo=aysen_nuevo.reset_index(drop=True)"
      ],
      "execution_count": null,
      "outputs": []
    },
    {
      "cell_type": "code",
      "metadata": {
        "colab": {
          "base_uri": "https://localhost:8080/",
          "height": 424
        },
        "id": "fpdHEeDOAMLY",
        "outputId": "fd5517f3-e1fc-42a3-f511-0e2a11b00ccb"
      },
      "source": [
        "aysen_nuevo"
      ],
      "execution_count": null,
      "outputs": [
        {
          "output_type": "execute_result",
          "data": {
            "text/html": [
              "<div>\n",
              "<style scoped>\n",
              "    .dataframe tbody tr th:only-of-type {\n",
              "        vertical-align: middle;\n",
              "    }\n",
              "\n",
              "    .dataframe tbody tr th {\n",
              "        vertical-align: top;\n",
              "    }\n",
              "\n",
              "    .dataframe thead th {\n",
              "        text-align: right;\n",
              "    }\n",
              "</style>\n",
              "<table border=\"1\" class=\"dataframe\">\n",
              "  <thead>\n",
              "    <tr style=\"text-align: right;\">\n",
              "      <th></th>\n",
              "      <th>SOSPECHA_DIAG</th>\n",
              "      <th>PRESTA_EST</th>\n",
              "    </tr>\n",
              "  </thead>\n",
              "  <tbody>\n",
              "    <tr>\n",
              "      <th>0</th>\n",
              "      <td>Celulitis y absceso de boca</td>\n",
              "      <td>ENDODONCIA</td>\n",
              "    </tr>\n",
              "    <tr>\n",
              "      <th>1</th>\n",
              "      <td>Celulitis y absceso de boca</td>\n",
              "      <td>ENDODONCIA</td>\n",
              "    </tr>\n",
              "    <tr>\n",
              "      <th>2</th>\n",
              "      <td>FISURA ANAL</td>\n",
              "      <td>CIRUGIA ADULTO</td>\n",
              "    </tr>\n",
              "    <tr>\n",
              "      <th>3</th>\n",
              "      <td>Periodontitis apical aguda originada en la pulpa</td>\n",
              "      <td>ENDODONCIA</td>\n",
              "    </tr>\n",
              "    <tr>\n",
              "      <th>4</th>\n",
              "      <td>Osteomielitis, no especificada</td>\n",
              "      <td>TRAUMATOLOGIA</td>\n",
              "    </tr>\n",
              "    <tr>\n",
              "      <th>...</th>\n",
              "      <td>...</td>\n",
              "      <td>...</td>\n",
              "    </tr>\n",
              "    <tr>\n",
              "      <th>121285</th>\n",
              "      <td>HIPERTENSION ESENCIAL (PRIMARIA)</td>\n",
              "      <td>MEDICINA INTERNA</td>\n",
              "    </tr>\n",
              "    <tr>\n",
              "      <th>121286</th>\n",
              "      <td>Consulta no Especificada</td>\n",
              "      <td>MEDICINA INTERNA</td>\n",
              "    </tr>\n",
              "    <tr>\n",
              "      <th>121287</th>\n",
              "      <td>HERNIAS DEL NUCLEO PULPOSO</td>\n",
              "      <td>NEUROLOGIA</td>\n",
              "    </tr>\n",
              "    <tr>\n",
              "      <th>121288</th>\n",
              "      <td>Consulta no Especificada</td>\n",
              "      <td>CIRUGIA ADULTO</td>\n",
              "    </tr>\n",
              "    <tr>\n",
              "      <th>121289</th>\n",
              "      <td>Consulta no Especificada</td>\n",
              "      <td>TRAUMATOLOGIA</td>\n",
              "    </tr>\n",
              "  </tbody>\n",
              "</table>\n",
              "<p>121290 rows × 2 columns</p>\n",
              "</div>"
            ],
            "text/plain": [
              "                                           SOSPECHA_DIAG        PRESTA_EST\n",
              "0                            Celulitis y absceso de boca        ENDODONCIA\n",
              "1                            Celulitis y absceso de boca        ENDODONCIA\n",
              "2                                            FISURA ANAL    CIRUGIA ADULTO\n",
              "3       Periodontitis apical aguda originada en la pulpa        ENDODONCIA\n",
              "4                         Osteomielitis, no especificada     TRAUMATOLOGIA\n",
              "...                                                  ...               ...\n",
              "121285                  HIPERTENSION ESENCIAL (PRIMARIA)  MEDICINA INTERNA\n",
              "121286                          Consulta no Especificada  MEDICINA INTERNA\n",
              "121287                        HERNIAS DEL NUCLEO PULPOSO        NEUROLOGIA\n",
              "121288                          Consulta no Especificada    CIRUGIA ADULTO\n",
              "121289                          Consulta no Especificada     TRAUMATOLOGIA\n",
              "\n",
              "[121290 rows x 2 columns]"
            ]
          },
          "metadata": {},
          "execution_count": 15
        }
      ]
    },
    {
      "cell_type": "code",
      "metadata": {
        "id": "hG0kB9guBF4E"
      },
      "source": [
        "# Corrígeme\n",
        "# pattern = r\"\"\"(?x)                   # set flag to allow verbose regexps\n",
        "#               (?:[A-Z]\\.)+           # abbreviations, e.g. U.S.A.\n",
        "#               |\\d+(?:\\.\\d+)?%?       # numbers, incl. currency and percentages\n",
        "#               |\\w+(?:[-']\\w+)*       # words w/ optional internal hyphens/apostrophe\n",
        "#               |(?:[+/\\-@&*])         # special characters with meanings\n",
        "#             \"\"\"\n",
        "\n",
        "pattern = r\"\"\"(?x)                   # set flag to allow verbose regexps\n",
        "              (?:[A-Z]\\.)+           # abbreviations, e.g. U.S.A.\n",
        "              |\\$?\\d+(?:[.,]\\d+)?%?  # numbers, incl. currency and percentages\n",
        "              |\\w+(?:[-']\\w+)*       # words w/ optional internal hyphens/apostrophe\n",
        "              |(?:[+/\\-@&*¡!.,])     # special characters with meanings\n",
        "            \"\"\"\n",
        "\n",
        "def cambiate(text):\n",
        "  hola=nltk.regexp_tokenize(text, pattern)\n",
        "  separator = ' '\n",
        "  hola2=separator.join(hola)\n",
        "  return hola2\n"
      ],
      "execution_count": null,
      "outputs": []
    },
    {
      "cell_type": "code",
      "metadata": {
        "colab": {
          "base_uri": "https://localhost:8080/",
          "height": 42
        },
        "id": "BhoDEKQ-BLJ5",
        "outputId": "58188f2f-63d7-483b-baf6-31b5a0e30f7f"
      },
      "source": [
        "cambiate(aysen_nuevo[\"SOSPECHA_DIAG\"].iloc[121285])"
      ],
      "execution_count": null,
      "outputs": [
        {
          "output_type": "execute_result",
          "data": {
            "application/vnd.google.colaboratory.intrinsic+json": {
              "type": "string"
            },
            "text/plain": [
              "'HIPERTENSION ESENCIAL PRIMARIA'"
            ]
          },
          "metadata": {},
          "execution_count": 22
        }
      ]
    },
    {
      "cell_type": "code",
      "metadata": {
        "id": "bO3tzP8S-vmB"
      },
      "source": [
        "aysen_nuevo['SOSPECHA_DIAG_NUEVO'] = aysen_nuevo.apply(lambda x: cambiate(x.SOSPECHA_DIAG), axis=1)"
      ],
      "execution_count": null,
      "outputs": []
    },
    {
      "cell_type": "code",
      "metadata": {
        "colab": {
          "base_uri": "https://localhost:8080/",
          "height": 424
        },
        "id": "D9H7kOpwAWjX",
        "outputId": "fa131885-5fb5-487f-a42e-15306f9dcb55"
      },
      "source": [
        "aysen_nuevo"
      ],
      "execution_count": null,
      "outputs": [
        {
          "output_type": "execute_result",
          "data": {
            "text/html": [
              "<div>\n",
              "<style scoped>\n",
              "    .dataframe tbody tr th:only-of-type {\n",
              "        vertical-align: middle;\n",
              "    }\n",
              "\n",
              "    .dataframe tbody tr th {\n",
              "        vertical-align: top;\n",
              "    }\n",
              "\n",
              "    .dataframe thead th {\n",
              "        text-align: right;\n",
              "    }\n",
              "</style>\n",
              "<table border=\"1\" class=\"dataframe\">\n",
              "  <thead>\n",
              "    <tr style=\"text-align: right;\">\n",
              "      <th></th>\n",
              "      <th>SOSPECHA_DIAG</th>\n",
              "      <th>PRESTA_EST</th>\n",
              "      <th>features</th>\n",
              "      <th>SOSPECHA_DIAG_NUEVO</th>\n",
              "    </tr>\n",
              "  </thead>\n",
              "  <tbody>\n",
              "    <tr>\n",
              "      <th>0</th>\n",
              "      <td>Celulitis y absceso de boca</td>\n",
              "      <td>ENDODONCIA</td>\n",
              "      <td>Celulitis y absceso de boca</td>\n",
              "      <td>Celulitis y absceso de boca</td>\n",
              "    </tr>\n",
              "    <tr>\n",
              "      <th>1</th>\n",
              "      <td>Celulitis y absceso de boca</td>\n",
              "      <td>ENDODONCIA</td>\n",
              "      <td>Celulitis y absceso de boca</td>\n",
              "      <td>Celulitis y absceso de boca</td>\n",
              "    </tr>\n",
              "    <tr>\n",
              "      <th>2</th>\n",
              "      <td>FISURA ANAL</td>\n",
              "      <td>CIRUGIA ADULTO</td>\n",
              "      <td>FISURA ANAL</td>\n",
              "      <td>FISURA ANAL</td>\n",
              "    </tr>\n",
              "    <tr>\n",
              "      <th>3</th>\n",
              "      <td>Periodontitis apical aguda originada en la pulpa</td>\n",
              "      <td>ENDODONCIA</td>\n",
              "      <td>Periodontitis apical aguda originada en la pulpa</td>\n",
              "      <td>Periodontitis apical aguda originada en la pulpa</td>\n",
              "    </tr>\n",
              "    <tr>\n",
              "      <th>4</th>\n",
              "      <td>Osteomielitis, no especificada</td>\n",
              "      <td>TRAUMATOLOGIA</td>\n",
              "      <td>Osteomielitis , no especificada</td>\n",
              "      <td>Osteomielitis , no especificada</td>\n",
              "    </tr>\n",
              "    <tr>\n",
              "      <th>...</th>\n",
              "      <td>...</td>\n",
              "      <td>...</td>\n",
              "      <td>...</td>\n",
              "      <td>...</td>\n",
              "    </tr>\n",
              "    <tr>\n",
              "      <th>121285</th>\n",
              "      <td>HIPERTENSION ESENCIAL PRIMARIA cerca</td>\n",
              "      <td>MEDICINA INTERNA</td>\n",
              "      <td>HIPERTENSION ESENCIAL PRIMARIA</td>\n",
              "      <td>HIPERTENSION ESENCIAL PRIMARIA cerca</td>\n",
              "    </tr>\n",
              "    <tr>\n",
              "      <th>121286</th>\n",
              "      <td>Consulta no Especificada</td>\n",
              "      <td>MEDICINA INTERNA</td>\n",
              "      <td>Consulta no Especificada</td>\n",
              "      <td>Consulta no Especificada</td>\n",
              "    </tr>\n",
              "    <tr>\n",
              "      <th>121287</th>\n",
              "      <td>HERNIAS DEL NUCLEO PULPOSO</td>\n",
              "      <td>NEUROLOGIA</td>\n",
              "      <td>HERNIAS DEL NUCLEO PULPOSO</td>\n",
              "      <td>HERNIAS DEL NUCLEO PULPOSO</td>\n",
              "    </tr>\n",
              "    <tr>\n",
              "      <th>121288</th>\n",
              "      <td>Consulta no Especificada</td>\n",
              "      <td>CIRUGIA ADULTO</td>\n",
              "      <td>Consulta no Especificada</td>\n",
              "      <td>Consulta no Especificada</td>\n",
              "    </tr>\n",
              "    <tr>\n",
              "      <th>121289</th>\n",
              "      <td>Consulta no Especificada</td>\n",
              "      <td>TRAUMATOLOGIA</td>\n",
              "      <td>Consulta no Especificada</td>\n",
              "      <td>Consulta no Especificada</td>\n",
              "    </tr>\n",
              "  </tbody>\n",
              "</table>\n",
              "<p>121290 rows × 4 columns</p>\n",
              "</div>"
            ],
            "text/plain": [
              "                                           SOSPECHA_DIAG  ...                               SOSPECHA_DIAG_NUEVO\n",
              "0                            Celulitis y absceso de boca  ...                       Celulitis y absceso de boca\n",
              "1                            Celulitis y absceso de boca  ...                       Celulitis y absceso de boca\n",
              "2                                            FISURA ANAL  ...                                       FISURA ANAL\n",
              "3       Periodontitis apical aguda originada en la pulpa  ...  Periodontitis apical aguda originada en la pulpa\n",
              "4                         Osteomielitis, no especificada  ...                   Osteomielitis , no especificada\n",
              "...                                                  ...  ...                                               ...\n",
              "121285              HIPERTENSION ESENCIAL PRIMARIA cerca  ...              HIPERTENSION ESENCIAL PRIMARIA cerca\n",
              "121286                          Consulta no Especificada  ...                          Consulta no Especificada\n",
              "121287                        HERNIAS DEL NUCLEO PULPOSO  ...                        HERNIAS DEL NUCLEO PULPOSO\n",
              "121288                          Consulta no Especificada  ...                          Consulta no Especificada\n",
              "121289                          Consulta no Especificada  ...                          Consulta no Especificada\n",
              "\n",
              "[121290 rows x 4 columns]"
            ]
          },
          "metadata": {},
          "execution_count": 50
        }
      ]
    },
    {
      "cell_type": "code",
      "metadata": {
        "id": "IkKYisJbB6F4"
      },
      "source": [
        "nltk_stopwords = nltk.corpus.stopwords.words('spanish')\n",
        "spacy_stopwords = spacy.lang.es.stop_words.STOP_WORDS\n",
        "\n",
        "stop_words_union = set(list(nltk_stopwords) + list(spacy_stopwords))\n",
        "stop_words_final = []\n",
        "for word in stop_words_union:\n",
        "  if word not in spacy_stopwords:\n",
        "    stop_words_final.append(word)\n",
        "  if word not in nltk_stopwords:\n",
        "    stop_words_final.append(word)\n",
        "\n",
        "\n",
        "def cambiate2(text):\n",
        "  hola=nltk.regexp_tokenize(text, pattern)\n",
        "  nuevohola=[]\n",
        "  for word in hola:\n",
        "    if word not in stop_words_final:\n",
        "      nuevohola.append(word)\n",
        "  separator = ' '\n",
        "  hola2=separator.join(nuevohola)\n",
        "  return hola2"
      ],
      "execution_count": null,
      "outputs": []
    },
    {
      "cell_type": "code",
      "metadata": {
        "id": "YvTEOwEuEWIB"
      },
      "source": [
        "aysen_nuevo[\"SOSPECHA_DIAG\"].iloc[121285]=\"HIPERTENSION ESENCIAL PRIMARIA cerca\""
      ],
      "execution_count": null,
      "outputs": []
    },
    {
      "cell_type": "code",
      "metadata": {
        "colab": {
          "base_uri": "https://localhost:8080/"
        },
        "id": "COyrIzAPEr04",
        "outputId": "1dcf020d-53aa-40e5-f60c-716dcd4dc0cd"
      },
      "source": [
        "print(aysen_nuevo[\"SOSPECHA_DIAG\"].iloc[121285])"
      ],
      "execution_count": null,
      "outputs": [
        {
          "output_type": "stream",
          "name": "stdout",
          "text": [
            "HIPERTENSION ESENCIAL PRIMARIA cerca\n"
          ]
        }
      ]
    },
    {
      "cell_type": "code",
      "metadata": {
        "colab": {
          "base_uri": "https://localhost:8080/"
        },
        "id": "Vi3DAijfE4ip",
        "outputId": "01785e12-1bfd-472b-df66-e9ab6e14fa4f"
      },
      "source": [
        "print(cambiate2(aysen_nuevo[\"SOSPECHA_DIAG\"].iloc[121285]))"
      ],
      "execution_count": null,
      "outputs": [
        {
          "output_type": "stream",
          "name": "stdout",
          "text": [
            "HIPERTENSION ESENCIAL PRIMARIA\n"
          ]
        }
      ]
    },
    {
      "cell_type": "code",
      "metadata": {
        "id": "61wP3XHIFlLd"
      },
      "source": [
        "aysen_nuevo['SOSPECHA_DIAG_NUEVO'] = aysen_nuevo.apply(lambda x: cambiate2(x.SOSPECHA_DIAG_NUEVO), axis=1)"
      ],
      "execution_count": null,
      "outputs": []
    },
    {
      "cell_type": "code",
      "metadata": {
        "colab": {
          "base_uri": "https://localhost:8080/",
          "height": 424
        },
        "id": "1y1iha4_FpEc",
        "outputId": "6a2c8b04-7a18-4bb7-d34c-18349d61ce9f"
      },
      "source": [
        "aysen_nuevo"
      ],
      "execution_count": null,
      "outputs": [
        {
          "output_type": "execute_result",
          "data": {
            "text/html": [
              "<div>\n",
              "<style scoped>\n",
              "    .dataframe tbody tr th:only-of-type {\n",
              "        vertical-align: middle;\n",
              "    }\n",
              "\n",
              "    .dataframe tbody tr th {\n",
              "        vertical-align: top;\n",
              "    }\n",
              "\n",
              "    .dataframe thead th {\n",
              "        text-align: right;\n",
              "    }\n",
              "</style>\n",
              "<table border=\"1\" class=\"dataframe\">\n",
              "  <thead>\n",
              "    <tr style=\"text-align: right;\">\n",
              "      <th></th>\n",
              "      <th>SOSPECHA_DIAG</th>\n",
              "      <th>PRESTA_EST</th>\n",
              "      <th>features</th>\n",
              "      <th>SOSPECHA_DIAG_NUEVO</th>\n",
              "    </tr>\n",
              "  </thead>\n",
              "  <tbody>\n",
              "    <tr>\n",
              "      <th>0</th>\n",
              "      <td>Celulitis y absceso de boca</td>\n",
              "      <td>ENDODONCIA</td>\n",
              "      <td>Celulitis y absceso de boca</td>\n",
              "      <td>Celulitis absceso de boca</td>\n",
              "    </tr>\n",
              "    <tr>\n",
              "      <th>1</th>\n",
              "      <td>Celulitis y absceso de boca</td>\n",
              "      <td>ENDODONCIA</td>\n",
              "      <td>Celulitis y absceso de boca</td>\n",
              "      <td>Celulitis absceso de boca</td>\n",
              "    </tr>\n",
              "    <tr>\n",
              "      <th>2</th>\n",
              "      <td>FISURA ANAL</td>\n",
              "      <td>CIRUGIA ADULTO</td>\n",
              "      <td>FISURA ANAL</td>\n",
              "      <td>FISURA ANAL</td>\n",
              "    </tr>\n",
              "    <tr>\n",
              "      <th>3</th>\n",
              "      <td>Periodontitis apical aguda originada en la pulpa</td>\n",
              "      <td>ENDODONCIA</td>\n",
              "      <td>Periodontitis apical aguda originada en la pulpa</td>\n",
              "      <td>Periodontitis apical aguda originada en la pulpa</td>\n",
              "    </tr>\n",
              "    <tr>\n",
              "      <th>4</th>\n",
              "      <td>Osteomielitis, no especificada</td>\n",
              "      <td>TRAUMATOLOGIA</td>\n",
              "      <td>Osteomielitis , no especificada</td>\n",
              "      <td>Osteomielitis , no especificada</td>\n",
              "    </tr>\n",
              "    <tr>\n",
              "      <th>...</th>\n",
              "      <td>...</td>\n",
              "      <td>...</td>\n",
              "      <td>...</td>\n",
              "      <td>...</td>\n",
              "    </tr>\n",
              "    <tr>\n",
              "      <th>121285</th>\n",
              "      <td>HIPERTENSION ESENCIAL PRIMARIA cerca</td>\n",
              "      <td>MEDICINA INTERNA</td>\n",
              "      <td>HIPERTENSION ESENCIAL PRIMARIA</td>\n",
              "      <td>HIPERTENSION ESENCIAL PRIMARIA</td>\n",
              "    </tr>\n",
              "    <tr>\n",
              "      <th>121286</th>\n",
              "      <td>Consulta no Especificada</td>\n",
              "      <td>MEDICINA INTERNA</td>\n",
              "      <td>Consulta no Especificada</td>\n",
              "      <td>Consulta no Especificada</td>\n",
              "    </tr>\n",
              "    <tr>\n",
              "      <th>121287</th>\n",
              "      <td>HERNIAS DEL NUCLEO PULPOSO</td>\n",
              "      <td>NEUROLOGIA</td>\n",
              "      <td>HERNIAS DEL NUCLEO PULPOSO</td>\n",
              "      <td>HERNIAS DEL NUCLEO PULPOSO</td>\n",
              "    </tr>\n",
              "    <tr>\n",
              "      <th>121288</th>\n",
              "      <td>Consulta no Especificada</td>\n",
              "      <td>CIRUGIA ADULTO</td>\n",
              "      <td>Consulta no Especificada</td>\n",
              "      <td>Consulta no Especificada</td>\n",
              "    </tr>\n",
              "    <tr>\n",
              "      <th>121289</th>\n",
              "      <td>Consulta no Especificada</td>\n",
              "      <td>TRAUMATOLOGIA</td>\n",
              "      <td>Consulta no Especificada</td>\n",
              "      <td>Consulta no Especificada</td>\n",
              "    </tr>\n",
              "  </tbody>\n",
              "</table>\n",
              "<p>121290 rows × 4 columns</p>\n",
              "</div>"
            ],
            "text/plain": [
              "                                           SOSPECHA_DIAG  ...                               SOSPECHA_DIAG_NUEVO\n",
              "0                            Celulitis y absceso de boca  ...                         Celulitis absceso de boca\n",
              "1                            Celulitis y absceso de boca  ...                         Celulitis absceso de boca\n",
              "2                                            FISURA ANAL  ...                                       FISURA ANAL\n",
              "3       Periodontitis apical aguda originada en la pulpa  ...  Periodontitis apical aguda originada en la pulpa\n",
              "4                         Osteomielitis, no especificada  ...                   Osteomielitis , no especificada\n",
              "...                                                  ...  ...                                               ...\n",
              "121285              HIPERTENSION ESENCIAL PRIMARIA cerca  ...                    HIPERTENSION ESENCIAL PRIMARIA\n",
              "121286                          Consulta no Especificada  ...                          Consulta no Especificada\n",
              "121287                        HERNIAS DEL NUCLEO PULPOSO  ...                        HERNIAS DEL NUCLEO PULPOSO\n",
              "121288                          Consulta no Especificada  ...                          Consulta no Especificada\n",
              "121289                          Consulta no Especificada  ...                          Consulta no Especificada\n",
              "\n",
              "[121290 rows x 4 columns]"
            ]
          },
          "metadata": {},
          "execution_count": 52
        }
      ]
    },
    {
      "cell_type": "code",
      "metadata": {
        "id": "9Y1WjZqVGOYE"
      },
      "source": [
        "stemmer = nltk.stem.SnowballStemmer(\"spanish\")\n",
        "#lemmatizer = nltk.stem.WordNetLemmatizer() no hay en español\n",
        "\n",
        "def cambiate3(text):\n",
        "  hola=nltk.regexp_tokenize(text, pattern)\n",
        "  nuevohola=[]\n",
        "  for word in hola:\n",
        "    nuevohola.append(stemmer.stem(word))\n",
        "  separator = ' '\n",
        "  hola2=separator.join(hola)\n",
        "  return hola2"
      ],
      "execution_count": null,
      "outputs": []
    },
    {
      "cell_type": "code",
      "metadata": {
        "colab": {
          "base_uri": "https://localhost:8080/",
          "height": 42
        },
        "id": "2k-qzQE3INQ2",
        "outputId": "6516901a-6d55-4884-eef4-7ffe4eeea9b7"
      },
      "source": [
        "stemmer.stem(\"Especificada\")"
      ],
      "execution_count": null,
      "outputs": [
        {
          "output_type": "execute_result",
          "data": {
            "application/vnd.google.colaboratory.intrinsic+json": {
              "type": "string"
            },
            "text/plain": [
              "'especific'"
            ]
          },
          "metadata": {},
          "execution_count": 62
        }
      ]
    }
  ]
}